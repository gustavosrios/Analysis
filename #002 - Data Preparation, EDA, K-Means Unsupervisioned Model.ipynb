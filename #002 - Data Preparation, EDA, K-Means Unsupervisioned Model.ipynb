{
 "cells": [
  {
   "cell_type": "markdown",
   "id": "2c513848",
   "metadata": {},
   "source": [
    "Name: Gustavo Silva Rios\n",
    "\n",
    "Date: 11/07/2023\n",
    "\n",
    "This is my first end-to-end data science project for my portfolio. \n",
    "It involved the challenge of working with two datasets, highlights the importance of Preprocessing techniques, the search for patterns and trends with Exploratory Data Analysis and the use of a ML model to segment the target audiences for accurate decision-making using the data.\n",
    "\n",
    "I used two fictional datasets from the Google Data Analytics course for this. The course asked me to do some cleaning on them with Google Sheets but as a form of study i decided to do it with Python as well, new ideas about doing new things with the dataset kept surging and i tried my best to analyze all the possibilities i have noticed.\n",
    "\n",
    "As my expertise in data analysis grows, I aim to be able to delve deeper into the analysis and be able uncover more insights. This project serves as a reflection of my progress and showcases the application of the acquired knowledge until this moment.\n",
    "\n",
    "Thank you!"
   ]
  },
  {
   "cell_type": "markdown",
   "id": "52f182b6",
   "metadata": {},
   "source": [
    "# Problems to be solved:  \n",
    "\n",
    "<font size=\"3\"><b>1. Merge, clean and standardization of two user datasets (fictional data):</b></font>\n",
    "\n",
    "* Users are identified with their emails in one dataset and unique MemberID numbers on the another. To leverage the email information, we need to extract and move the email addresses to a separate column;\n",
    "* Look for duplicate entrys on both datasets;\n",
    "* Standardize the MemberID columns by assigning numeric values to all users. Users previously identified by their emails will be assigned new numeric Member IDs.\n",
    "\n",
    "<font size=\"3\"><b>2. Draw inferences about the merged dataset.</b></font>\n",
    " \n",
    "<font size=\"3\"><b>3. Fitting a K-means model to cluster the most valued users on the dataset.</b></font>\n"
   ]
  },
  {
   "cell_type": "markdown",
   "id": "48344c33",
   "metadata": {},
   "source": [
    "<font size=\"4\"><b>Importing libs for data manipulation and analysis</b></font>"
   ]
  },
  {
   "cell_type": "code",
   "execution_count": 1,
   "id": "a99c612d",
   "metadata": {},
   "outputs": [],
   "source": [
    "import pandas as pd\n",
    "import re\n",
    "import seaborn as sns\n",
    "import numpy as np\n",
    "from datetime import datetime\n",
    "import matplotlib.pyplot as plt"
   ]
  },
  {
   "cell_type": "markdown",
   "id": "1fad3fb7",
   "metadata": {},
   "source": [
    "<font size=\"4\"><b>Reading .csv datasets and setting options to visualize all columns and rows of the datasets if needed</b></font>"
   ]
  },
  {
   "cell_type": "code",
   "execution_count": 2,
   "id": "91b81587",
   "metadata": {},
   "outputs": [],
   "source": [
    "pd.set_option('display.max_columns', None) \n",
    "pd.set_option('display.max_rows', None)\n",
    "df_global = pd.read_csv('Global_Logistics Association_Data_to_Merge_GLA_Members.csv')\n",
    "df_inter = pd.read_csv('International_Logistics_Association_Memberships_Data_to_Merge_Association_ABC_memberships.csv')  "
   ]
  },
  {
   "cell_type": "markdown",
   "id": "329cef3b",
   "metadata": {},
   "source": [
    "<font size=\"4\"><b>Overview of the datasets</b></font>\n",
    "* Checking Variables and Variable Types\n",
    "* Checking for null and duplicate values"
   ]
  },
  {
   "cell_type": "code",
   "execution_count": 3,
   "id": "dca6fa5f",
   "metadata": {
    "scrolled": false
   },
   "outputs": [
    {
     "name": "stdout",
     "output_type": "stream",
     "text": [
      "<class 'pandas.core.frame.DataFrame'>\n",
      "RangeIndex: 81 entries, 0 to 80\n",
      "Data columns (total 13 columns):\n",
      " #   Column               Non-Null Count  Dtype \n",
      "---  ------               --------------  ----- \n",
      " 0   Member ID            81 non-null     object\n",
      " 1   Last name            81 non-null     object\n",
      " 2   First name           81 non-null     object\n",
      " 3   Street               81 non-null     object\n",
      " 4   Apt/Ste/Unit         13 non-null     object\n",
      " 5   New Address          81 non-null     object\n",
      " 6   City                 81 non-null     object\n",
      " 7   State                62 non-null     object\n",
      " 8   Country              81 non-null     object\n",
      " 9   Zip Code             65 non-null     object\n",
      " 10  Dues amount          81 non-null     object\n",
      " 11  Membership end date  81 non-null     object\n",
      " 12  Member type          81 non-null     object\n",
      "dtypes: object(13)\n",
      "memory usage: 8.4+ KB\n",
      "None\n"
     ]
    },
    {
     "data": {
      "text/html": [
       "<div>\n",
       "<style scoped>\n",
       "    .dataframe tbody tr th:only-of-type {\n",
       "        vertical-align: middle;\n",
       "    }\n",
       "\n",
       "    .dataframe tbody tr th {\n",
       "        vertical-align: top;\n",
       "    }\n",
       "\n",
       "    .dataframe thead th {\n",
       "        text-align: right;\n",
       "    }\n",
       "</style>\n",
       "<table border=\"1\" class=\"dataframe\">\n",
       "  <thead>\n",
       "    <tr style=\"text-align: right;\">\n",
       "      <th></th>\n",
       "      <th>Member ID</th>\n",
       "      <th>Last name</th>\n",
       "      <th>First name</th>\n",
       "      <th>Street</th>\n",
       "      <th>Apt/Ste/Unit</th>\n",
       "      <th>New Address</th>\n",
       "      <th>City</th>\n",
       "      <th>State</th>\n",
       "      <th>Country</th>\n",
       "      <th>Zip Code</th>\n",
       "      <th>Dues amount</th>\n",
       "      <th>Membership end date</th>\n",
       "      <th>Member type</th>\n",
       "    </tr>\n",
       "  </thead>\n",
       "  <tbody>\n",
       "    <tr>\n",
       "      <th>0</th>\n",
       "      <td>sakaguchiabbas@email.com</td>\n",
       "      <td>Sakaguchi</td>\n",
       "      <td>Abbas</td>\n",
       "      <td>25 Dyas Rd</td>\n",
       "      <td>Ste. 101</td>\n",
       "      <td>25 Dyas RdSte. 101</td>\n",
       "      <td>North York</td>\n",
       "      <td>ON</td>\n",
       "      <td>Canada</td>\n",
       "      <td>M3B 1V7</td>\n",
       "      <td>$99</td>\n",
       "      <td>Sunday, March 27, 2022</td>\n",
       "      <td>Young Professional</td>\n",
       "    </tr>\n",
       "  </tbody>\n",
       "</table>\n",
       "</div>"
      ],
      "text/plain": [
       "                  Member ID  Last name First name      Street Apt/Ste/Unit  \\\n",
       "0  sakaguchiabbas@email.com  Sakaguchi      Abbas  25 Dyas Rd     Ste. 101   \n",
       "\n",
       "          New Address        City State Country Zip Code Dues amount  \\\n",
       "0  25 Dyas RdSte. 101  North York    ON  Canada  M3B 1V7         $99   \n",
       "\n",
       "      Membership end date         Member type  \n",
       "0  Sunday, March 27, 2022  Young Professional  "
      ]
     },
     "execution_count": 3,
     "metadata": {},
     "output_type": "execute_result"
    }
   ],
   "source": [
    "print(df_global.info())\n",
    "df_global.head(1)"
   ]
  },
  {
   "cell_type": "code",
   "execution_count": 4,
   "id": "b67b0d94",
   "metadata": {
    "scrolled": false
   },
   "outputs": [
    {
     "name": "stdout",
     "output_type": "stream",
     "text": [
      "<class 'pandas.core.frame.DataFrame'>\n",
      "RangeIndex: 71 entries, 0 to 70\n",
      "Data columns (total 11 columns):\n",
      " #   Column                    Non-Null Count  Dtype \n",
      "---  ------                    --------------  ----- \n",
      " 0   Member ID                 71 non-null     int64 \n",
      " 1   Last name                 71 non-null     object\n",
      " 2   First name                71 non-null     object\n",
      " 3   Address 1                 71 non-null     object\n",
      " 4   Address 2                 71 non-null     object\n",
      " 5   Address 3                 30 non-null     object\n",
      " 6   Address 4                 71 non-null     object\n",
      " 7   Address 5                 39 non-null     object\n",
      " 8   Dues amount               71 non-null     object\n",
      " 9   Membership valid through  71 non-null     object\n",
      " 10  Member type               71 non-null     object\n",
      "dtypes: int64(1), object(10)\n",
      "memory usage: 6.2+ KB\n",
      "None\n"
     ]
    },
    {
     "data": {
      "text/html": [
       "<div>\n",
       "<style scoped>\n",
       "    .dataframe tbody tr th:only-of-type {\n",
       "        vertical-align: middle;\n",
       "    }\n",
       "\n",
       "    .dataframe tbody tr th {\n",
       "        vertical-align: top;\n",
       "    }\n",
       "\n",
       "    .dataframe thead th {\n",
       "        text-align: right;\n",
       "    }\n",
       "</style>\n",
       "<table border=\"1\" class=\"dataframe\">\n",
       "  <thead>\n",
       "    <tr style=\"text-align: right;\">\n",
       "      <th></th>\n",
       "      <th>Member ID</th>\n",
       "      <th>Last name</th>\n",
       "      <th>First name</th>\n",
       "      <th>Address 1</th>\n",
       "      <th>Address 2</th>\n",
       "      <th>Address 3</th>\n",
       "      <th>Address 4</th>\n",
       "      <th>Address 5</th>\n",
       "      <th>Dues amount</th>\n",
       "      <th>Membership valid through</th>\n",
       "      <th>Member type</th>\n",
       "    </tr>\n",
       "  </thead>\n",
       "  <tbody>\n",
       "    <tr>\n",
       "      <th>0</th>\n",
       "      <td>100011</td>\n",
       "      <td>Tsao</td>\n",
       "      <td>Danny</td>\n",
       "      <td>27 Wu Tzu St</td>\n",
       "      <td>Tamshui 251</td>\n",
       "      <td>NaN</td>\n",
       "      <td>Taiwan</td>\n",
       "      <td>NaN</td>\n",
       "      <td>$200</td>\n",
       "      <td>3/25/2021</td>\n",
       "      <td>Professional Member</td>\n",
       "    </tr>\n",
       "  </tbody>\n",
       "</table>\n",
       "</div>"
      ],
      "text/plain": [
       "   Member ID Last name First name     Address 1    Address 2 Address 3  \\\n",
       "0     100011      Tsao      Danny  27 Wu Tzu St  Tamshui 251       NaN   \n",
       "\n",
       "  Address 4 Address 5 Dues amount Membership valid through  \\\n",
       "0    Taiwan       NaN        $200                3/25/2021   \n",
       "\n",
       "           Member type  \n",
       "0  Professional Member  "
      ]
     },
     "execution_count": 4,
     "metadata": {},
     "output_type": "execute_result"
    }
   ],
   "source": [
    "print(df_inter.info())\n",
    "df_inter.head(1)"
   ]
  },
  {
   "cell_type": "markdown",
   "id": "cdd85899",
   "metadata": {},
   "source": [
    "<font size=\"4\"><b>Checking for null and duplicate elements on both datasets: </b></font>"
   ]
  },
  {
   "cell_type": "code",
   "execution_count": 5,
   "id": "63fa9276",
   "metadata": {},
   "outputs": [
    {
     "name": "stdout",
     "output_type": "stream",
     "text": [
      "Duplicate Value Count: 0\n"
     ]
    }
   ],
   "source": [
    "# Number of duplicate values in df_global\n",
    "print(f'Duplicate Value Count: {df_global.duplicated().sum()}')"
   ]
  },
  {
   "cell_type": "code",
   "execution_count": 6,
   "id": "3241a467",
   "metadata": {},
   "outputs": [
    {
     "data": {
      "text/plain": [
       "Member ID               0\n",
       "Last name               0\n",
       "First name              0\n",
       "Street                  0\n",
       "Apt/Ste/Unit           68\n",
       "New Address             0\n",
       "City                    0\n",
       "State                  19\n",
       "Country                 0\n",
       "Zip Code               16\n",
       "Dues amount             0\n",
       "Membership end date     0\n",
       "Member type             0\n",
       "dtype: int64"
      ]
     },
     "execution_count": 6,
     "metadata": {},
     "output_type": "execute_result"
    }
   ],
   "source": [
    "# Number of null values in df_global\n",
    "df_global.isnull().sum()"
   ]
  },
  {
   "cell_type": "code",
   "execution_count": 7,
   "id": "4fe183aa",
   "metadata": {},
   "outputs": [
    {
     "name": "stdout",
     "output_type": "stream",
     "text": [
      "Duplicate Value Count: 1\n"
     ]
    }
   ],
   "source": [
    "# Number of duplicate values in df_inter\n",
    "print(f'Duplicate Value Count: {df_inter.duplicated().sum()}')"
   ]
  },
  {
   "cell_type": "code",
   "execution_count": 8,
   "id": "1c905088",
   "metadata": {
    "scrolled": true
   },
   "outputs": [
    {
     "data": {
      "text/plain": [
       "Member ID                    0\n",
       "Last name                    0\n",
       "First name                   0\n",
       "Address 1                    0\n",
       "Address 2                    0\n",
       "Address 3                   41\n",
       "Address 4                    0\n",
       "Address 5                   32\n",
       "Dues amount                  0\n",
       "Membership valid through     0\n",
       "Member type                  0\n",
       "dtype: int64"
      ]
     },
     "execution_count": 8,
     "metadata": {},
     "output_type": "execute_result"
    }
   ],
   "source": [
    "# Number of null values in df_inter\n",
    "df_inter.isnull().sum()"
   ]
  },
  {
   "cell_type": "markdown",
   "id": "76dab01b",
   "metadata": {},
   "source": [
    "<font size=\"4\"><b>Standardizing the column names of 'df_inter' to match those of 'df_global'.</b></font>"
   ]
  },
  {
   "cell_type": "code",
   "execution_count": 9,
   "id": "e7897787",
   "metadata": {},
   "outputs": [],
   "source": [
    "df_inter = df_inter.rename(columns={'Address 3': 'State', 'Address 4': 'Country',\n",
    "                                    'Address 5': 'Zip Code', 'Membership valid through': 'Membership end date' })"
   ]
  },
  {
   "cell_type": "code",
   "execution_count": 10,
   "id": "54b72c90",
   "metadata": {},
   "outputs": [
    {
     "data": {
      "text/html": [
       "<div>\n",
       "<style scoped>\n",
       "    .dataframe tbody tr th:only-of-type {\n",
       "        vertical-align: middle;\n",
       "    }\n",
       "\n",
       "    .dataframe tbody tr th {\n",
       "        vertical-align: top;\n",
       "    }\n",
       "\n",
       "    .dataframe thead th {\n",
       "        text-align: right;\n",
       "    }\n",
       "</style>\n",
       "<table border=\"1\" class=\"dataframe\">\n",
       "  <thead>\n",
       "    <tr style=\"text-align: right;\">\n",
       "      <th></th>\n",
       "      <th>Member ID</th>\n",
       "      <th>Last name</th>\n",
       "      <th>First name</th>\n",
       "      <th>Address 1</th>\n",
       "      <th>Address 2</th>\n",
       "      <th>State</th>\n",
       "      <th>Country</th>\n",
       "      <th>Zip Code</th>\n",
       "      <th>Dues amount</th>\n",
       "      <th>Membership end date</th>\n",
       "      <th>Member type</th>\n",
       "    </tr>\n",
       "  </thead>\n",
       "  <tbody>\n",
       "    <tr>\n",
       "      <th>0</th>\n",
       "      <td>100011</td>\n",
       "      <td>Tsao</td>\n",
       "      <td>Danny</td>\n",
       "      <td>27 Wu Tzu St</td>\n",
       "      <td>Tamshui 251</td>\n",
       "      <td>NaN</td>\n",
       "      <td>Taiwan</td>\n",
       "      <td>NaN</td>\n",
       "      <td>$200</td>\n",
       "      <td>3/25/2021</td>\n",
       "      <td>Professional Member</td>\n",
       "    </tr>\n",
       "    <tr>\n",
       "      <th>1</th>\n",
       "      <td>100012</td>\n",
       "      <td>Lei</td>\n",
       "      <td>Colleen</td>\n",
       "      <td>88 6th Avenue Teda</td>\n",
       "      <td>300457 TIANJIN</td>\n",
       "      <td>NaN</td>\n",
       "      <td>China</td>\n",
       "      <td>NaN</td>\n",
       "      <td>$500</td>\n",
       "      <td>10/12/2023</td>\n",
       "      <td>Corporate Member</td>\n",
       "    </tr>\n",
       "    <tr>\n",
       "      <th>2</th>\n",
       "      <td>100013</td>\n",
       "      <td>Roth</td>\n",
       "      <td>Nancy</td>\n",
       "      <td>Hoefenstrasse 31</td>\n",
       "      <td>Muehlethal</td>\n",
       "      <td>NaN</td>\n",
       "      <td>Switzerland</td>\n",
       "      <td>4812</td>\n",
       "      <td>$100</td>\n",
       "      <td>1/11/2023</td>\n",
       "      <td>Student Associate</td>\n",
       "    </tr>\n",
       "  </tbody>\n",
       "</table>\n",
       "</div>"
      ],
      "text/plain": [
       "   Member ID Last name First name           Address 1       Address 2 State  \\\n",
       "0     100011      Tsao      Danny        27 Wu Tzu St     Tamshui 251   NaN   \n",
       "1     100012       Lei    Colleen  88 6th Avenue Teda  300457 TIANJIN   NaN   \n",
       "2     100013      Roth      Nancy    Hoefenstrasse 31      Muehlethal   NaN   \n",
       "\n",
       "       Country Zip Code Dues amount Membership end date          Member type  \n",
       "0       Taiwan      NaN        $200           3/25/2021  Professional Member  \n",
       "1        China      NaN        $500          10/12/2023     Corporate Member  \n",
       "2  Switzerland     4812        $100           1/11/2023    Student Associate  "
      ]
     },
     "execution_count": 10,
     "metadata": {},
     "output_type": "execute_result"
    }
   ],
   "source": [
    "# Visualizing the df_inter changes \n",
    "df_inter.head(3)"
   ]
  },
  {
   "cell_type": "markdown",
   "id": "3bbd3945",
   "metadata": {},
   "source": [
    "<font size=\"4\"><b>Concatenating columns to unify addresses</b></font>\n",
    "\n",
    "Concatenating the values from the 'Apt/Ste/Unit' column with the 'Street' column and changing the name of the 'Street', 'New address' columns to 'Address 1' and 'Address 2'"
   ]
  },
  {
   "cell_type": "code",
   "execution_count": 11,
   "id": "fe123b50",
   "metadata": {},
   "outputs": [],
   "source": [
    "# .fillna('') - all null values replaced with a empty string\n",
    "df_global['Street'] = df_global['Street'] + df_global['Apt/Ste/Unit'].fillna('')\n",
    "\n",
    "# Deleting the column 'Apt/Ste/Unit', axis=1 means the columns axis)\n",
    "df_global = df_global.drop('Apt/Ste/Unit', axis=1)\n",
    "df_global = df_global.rename(columns={'Street': 'Address 1', 'New Address': 'Address 2'})"
   ]
  },
  {
   "cell_type": "code",
   "execution_count": 12,
   "id": "470836f2",
   "metadata": {},
   "outputs": [
    {
     "data": {
      "text/html": [
       "<div>\n",
       "<style scoped>\n",
       "    .dataframe tbody tr th:only-of-type {\n",
       "        vertical-align: middle;\n",
       "    }\n",
       "\n",
       "    .dataframe tbody tr th {\n",
       "        vertical-align: top;\n",
       "    }\n",
       "\n",
       "    .dataframe thead th {\n",
       "        text-align: right;\n",
       "    }\n",
       "</style>\n",
       "<table border=\"1\" class=\"dataframe\">\n",
       "  <thead>\n",
       "    <tr style=\"text-align: right;\">\n",
       "      <th></th>\n",
       "      <th>Member ID</th>\n",
       "      <th>Last name</th>\n",
       "      <th>First name</th>\n",
       "      <th>Address 1</th>\n",
       "      <th>Address 2</th>\n",
       "      <th>City</th>\n",
       "      <th>State</th>\n",
       "      <th>Country</th>\n",
       "      <th>Zip Code</th>\n",
       "      <th>Dues amount</th>\n",
       "      <th>Membership end date</th>\n",
       "      <th>Member type</th>\n",
       "    </tr>\n",
       "  </thead>\n",
       "  <tbody>\n",
       "    <tr>\n",
       "      <th>0</th>\n",
       "      <td>sakaguchiabbas@email.com</td>\n",
       "      <td>Sakaguchi</td>\n",
       "      <td>Abbas</td>\n",
       "      <td>25 Dyas RdSte. 101</td>\n",
       "      <td>25 Dyas RdSte. 101</td>\n",
       "      <td>North York</td>\n",
       "      <td>ON</td>\n",
       "      <td>Canada</td>\n",
       "      <td>M3B 1V7</td>\n",
       "      <td>$99</td>\n",
       "      <td>Sunday, March 27, 2022</td>\n",
       "      <td>Young Professional</td>\n",
       "    </tr>\n",
       "    <tr>\n",
       "      <th>1</th>\n",
       "      <td>dorionrichard@email.com</td>\n",
       "      <td>Dorion</td>\n",
       "      <td>Richard</td>\n",
       "      <td>7101 Notre Dame St</td>\n",
       "      <td>7101 Notre Dame St</td>\n",
       "      <td>Montreal</td>\n",
       "      <td>QC</td>\n",
       "      <td>Canada</td>\n",
       "      <td>H1N 2G4</td>\n",
       "      <td>$2,499</td>\n",
       "      <td>2/29/2022</td>\n",
       "      <td>Lifetime Member</td>\n",
       "    </tr>\n",
       "    <tr>\n",
       "      <th>2</th>\n",
       "      <td>gougeonsanjay@email.com</td>\n",
       "      <td>Gougeon</td>\n",
       "      <td>Sanjay</td>\n",
       "      <td>8580 Esplanade Ave</td>\n",
       "      <td>8580 Esplanade Ave</td>\n",
       "      <td>Montreal</td>\n",
       "      <td>QC</td>\n",
       "      <td>Canada</td>\n",
       "      <td>H2P 2R8</td>\n",
       "      <td>$199</td>\n",
       "      <td>Tuesday, November 9, 2021</td>\n",
       "      <td>Professional Member</td>\n",
       "    </tr>\n",
       "  </tbody>\n",
       "</table>\n",
       "</div>"
      ],
      "text/plain": [
       "                  Member ID  Last name First name            Address 1  \\\n",
       "0  sakaguchiabbas@email.com  Sakaguchi      Abbas   25 Dyas RdSte. 101   \n",
       "1   dorionrichard@email.com     Dorion    Richard  7101 Notre Dame St    \n",
       "2   gougeonsanjay@email.com    Gougeon     Sanjay   8580 Esplanade Ave   \n",
       "\n",
       "             Address 2        City State Country Zip Code Dues amount  \\\n",
       "0   25 Dyas RdSte. 101  North York    ON  Canada  M3B 1V7         $99   \n",
       "1  7101 Notre Dame St     Montreal    QC  Canada  H1N 2G4      $2,499   \n",
       "2   8580 Esplanade Ave    Montreal    QC  Canada  H2P 2R8        $199   \n",
       "\n",
       "         Membership end date          Member type  \n",
       "0     Sunday, March 27, 2022   Young Professional  \n",
       "1                  2/29/2022      Lifetime Member  \n",
       "2  Tuesday, November 9, 2021  Professional Member  "
      ]
     },
     "execution_count": 12,
     "metadata": {},
     "output_type": "execute_result"
    }
   ],
   "source": [
    "# Visualizing the df_global changes \n",
    "df_global.head(3)"
   ]
  },
  {
   "cell_type": "markdown",
   "id": "08912af7",
   "metadata": {},
   "source": [
    "<font size=\"4\"><b>Merging</b></font>\n",
    "\n",
    "In order to merge the two datasets, we need to standardize the column names on both datasets.\n",
    "After doing that it's possible to concatenate them vertically.\n",
    "I also removed the duplicates on the Columns 'Member ID', 'Last name', 'First name' to avoid inaccurate analysis."
   ]
  },
  {
   "cell_type": "code",
   "execution_count": 13,
   "id": "4ae051c4",
   "metadata": {
    "scrolled": true
   },
   "outputs": [
    {
     "data": {
      "text/html": [
       "<div>\n",
       "<style scoped>\n",
       "    .dataframe tbody tr th:only-of-type {\n",
       "        vertical-align: middle;\n",
       "    }\n",
       "\n",
       "    .dataframe tbody tr th {\n",
       "        vertical-align: top;\n",
       "    }\n",
       "\n",
       "    .dataframe thead th {\n",
       "        text-align: right;\n",
       "    }\n",
       "</style>\n",
       "<table border=\"1\" class=\"dataframe\">\n",
       "  <thead>\n",
       "    <tr style=\"text-align: right;\">\n",
       "      <th></th>\n",
       "      <th>Member ID</th>\n",
       "      <th>Last name</th>\n",
       "      <th>First name</th>\n",
       "      <th>Address 1</th>\n",
       "      <th>Address 2</th>\n",
       "      <th>City</th>\n",
       "      <th>State</th>\n",
       "      <th>Country</th>\n",
       "      <th>Zip Code</th>\n",
       "      <th>Dues amount</th>\n",
       "      <th>Membership end date</th>\n",
       "      <th>Member type</th>\n",
       "    </tr>\n",
       "  </thead>\n",
       "  <tbody>\n",
       "    <tr>\n",
       "      <th>0</th>\n",
       "      <td>sakaguchiabbas@email.com</td>\n",
       "      <td>Sakaguchi</td>\n",
       "      <td>Abbas</td>\n",
       "      <td>25 Dyas RdSte. 101</td>\n",
       "      <td>25 Dyas RdSte. 101</td>\n",
       "      <td>North York</td>\n",
       "      <td>ON</td>\n",
       "      <td>Canada</td>\n",
       "      <td>M3B 1V7</td>\n",
       "      <td>$99</td>\n",
       "      <td>Sunday, March 27, 2022</td>\n",
       "      <td>Young Professional</td>\n",
       "    </tr>\n",
       "    <tr>\n",
       "      <th>1</th>\n",
       "      <td>dorionrichard@email.com</td>\n",
       "      <td>Dorion</td>\n",
       "      <td>Richard</td>\n",
       "      <td>7101 Notre Dame St</td>\n",
       "      <td>7101 Notre Dame St</td>\n",
       "      <td>Montreal</td>\n",
       "      <td>QC</td>\n",
       "      <td>Canada</td>\n",
       "      <td>H1N 2G4</td>\n",
       "      <td>$2,499</td>\n",
       "      <td>2/29/2022</td>\n",
       "      <td>Lifetime Member</td>\n",
       "    </tr>\n",
       "    <tr>\n",
       "      <th>2</th>\n",
       "      <td>gougeonsanjay@email.com</td>\n",
       "      <td>Gougeon</td>\n",
       "      <td>Sanjay</td>\n",
       "      <td>8580 Esplanade Ave</td>\n",
       "      <td>8580 Esplanade Ave</td>\n",
       "      <td>Montreal</td>\n",
       "      <td>QC</td>\n",
       "      <td>Canada</td>\n",
       "      <td>H2P 2R8</td>\n",
       "      <td>$199</td>\n",
       "      <td>Tuesday, November 9, 2021</td>\n",
       "      <td>Professional Member</td>\n",
       "    </tr>\n",
       "  </tbody>\n",
       "</table>\n",
       "</div>"
      ],
      "text/plain": [
       "                  Member ID  Last name First name            Address 1  \\\n",
       "0  sakaguchiabbas@email.com  Sakaguchi      Abbas   25 Dyas RdSte. 101   \n",
       "1   dorionrichard@email.com     Dorion    Richard  7101 Notre Dame St    \n",
       "2   gougeonsanjay@email.com    Gougeon     Sanjay   8580 Esplanade Ave   \n",
       "\n",
       "             Address 2        City State Country Zip Code Dues amount  \\\n",
       "0   25 Dyas RdSte. 101  North York    ON  Canada  M3B 1V7         $99   \n",
       "1  7101 Notre Dame St     Montreal    QC  Canada  H1N 2G4      $2,499   \n",
       "2   8580 Esplanade Ave    Montreal    QC  Canada  H2P 2R8        $199   \n",
       "\n",
       "         Membership end date          Member type  \n",
       "0     Sunday, March 27, 2022   Young Professional  \n",
       "1                  2/29/2022      Lifetime Member  \n",
       "2  Tuesday, November 9, 2021  Professional Member  "
      ]
     },
     "execution_count": 13,
     "metadata": {},
     "output_type": "execute_result"
    }
   ],
   "source": [
    "# Concatenate the DataFrames vertically\n",
    "merged_df = pd.concat([df_global, df_inter])\n",
    "\n",
    "# Remove duplicates based on the identification columns.\n",
    "merged_df.drop_duplicates(subset=['Member ID', 'Last name', 'First name'], inplace=True)\n",
    "merged_df.reset_index(drop=True, inplace=True)\n",
    "\n",
    "# View the beginning of the new merged dataframe\n",
    "merged_df.head(3)"
   ]
  },
  {
   "cell_type": "code",
   "execution_count": 14,
   "id": "68b59fd6",
   "metadata": {
    "scrolled": true
   },
   "outputs": [
    {
     "data": {
      "text/html": [
       "<div>\n",
       "<style scoped>\n",
       "    .dataframe tbody tr th:only-of-type {\n",
       "        vertical-align: middle;\n",
       "    }\n",
       "\n",
       "    .dataframe tbody tr th {\n",
       "        vertical-align: top;\n",
       "    }\n",
       "\n",
       "    .dataframe thead th {\n",
       "        text-align: right;\n",
       "    }\n",
       "</style>\n",
       "<table border=\"1\" class=\"dataframe\">\n",
       "  <thead>\n",
       "    <tr style=\"text-align: right;\">\n",
       "      <th></th>\n",
       "      <th>Member ID</th>\n",
       "      <th>Last name</th>\n",
       "      <th>First name</th>\n",
       "      <th>Address 1</th>\n",
       "      <th>Address 2</th>\n",
       "      <th>City</th>\n",
       "      <th>State</th>\n",
       "      <th>Country</th>\n",
       "      <th>Zip Code</th>\n",
       "      <th>Dues amount</th>\n",
       "      <th>Membership end date</th>\n",
       "      <th>Member type</th>\n",
       "    </tr>\n",
       "  </thead>\n",
       "  <tbody>\n",
       "    <tr>\n",
       "      <th>148</th>\n",
       "      <td>100080</td>\n",
       "      <td>Takeuchi</td>\n",
       "      <td>Bellande</td>\n",
       "      <td>435 Plessis Rd</td>\n",
       "      <td>Springfield</td>\n",
       "      <td>NaN</td>\n",
       "      <td>MB</td>\n",
       "      <td>Canada</td>\n",
       "      <td>R3X 1W9</td>\n",
       "      <td>$200</td>\n",
       "      <td>6/2/2021</td>\n",
       "      <td>Professional Member</td>\n",
       "    </tr>\n",
       "    <tr>\n",
       "      <th>149</th>\n",
       "      <td>100081</td>\n",
       "      <td>St-Germain</td>\n",
       "      <td>Poulin</td>\n",
       "      <td>600 Dr Frederick Philips</td>\n",
       "      <td>Saint-Laurent</td>\n",
       "      <td>NaN</td>\n",
       "      <td>QC</td>\n",
       "      <td>Canada</td>\n",
       "      <td>H4M 2S9</td>\n",
       "      <td>$1,000</td>\n",
       "      <td>2/17/2021</td>\n",
       "      <td>Corporate Voting</td>\n",
       "    </tr>\n",
       "    <tr>\n",
       "      <th>150</th>\n",
       "      <td>100082</td>\n",
       "      <td>Thakur</td>\n",
       "      <td>De Larbre</td>\n",
       "      <td>SF-9 Sri Sai Paradise</td>\n",
       "      <td>Bangalore KRN -560061</td>\n",
       "      <td>NaN</td>\n",
       "      <td>NaN</td>\n",
       "      <td>India</td>\n",
       "      <td>NaN</td>\n",
       "      <td>$200</td>\n",
       "      <td>10/23/2021</td>\n",
       "      <td>Professional Member</td>\n",
       "    </tr>\n",
       "  </tbody>\n",
       "</table>\n",
       "</div>"
      ],
      "text/plain": [
       "    Member ID   Last name First name                 Address 1  \\\n",
       "148    100080    Takeuchi   Bellande            435 Plessis Rd   \n",
       "149    100081  St-Germain     Poulin  600 Dr Frederick Philips   \n",
       "150    100082      Thakur  De Larbre     SF-9 Sri Sai Paradise   \n",
       "\n",
       "                 Address 2 City State Country Zip Code Dues amount  \\\n",
       "148            Springfield  NaN    MB  Canada  R3X 1W9        $200   \n",
       "149          Saint-Laurent  NaN    QC  Canada  H4M 2S9      $1,000   \n",
       "150  Bangalore KRN -560061  NaN   NaN   India      NaN        $200   \n",
       "\n",
       "    Membership end date          Member type  \n",
       "148            6/2/2021  Professional Member  \n",
       "149           2/17/2021     Corporate Voting  \n",
       "150          10/23/2021  Professional Member  "
      ]
     },
     "execution_count": 14,
     "metadata": {},
     "output_type": "execute_result"
    }
   ],
   "source": [
    "# View the end of the new merged dataframe\n",
    "merged_df.tail(3)"
   ]
  },
  {
   "cell_type": "markdown",
   "id": "b4cf9aec",
   "metadata": {},
   "source": [
    "To prioritize users with numeric Member IDs and ensure consistency, this code filters the dataset starting from row 81 with the Member ID \"100011\". It then reorganizes the rows, moving these users to the beginning. Additionally, the row index is reset to achieve standardization across the dataset."
   ]
  },
  {
   "cell_type": "code",
   "execution_count": 15,
   "id": "d339a13a",
   "metadata": {},
   "outputs": [],
   "source": [
    "# Filter the rows starting from row 81 with the Member ID \"100011\"\n",
    "lines = merged_df[merged_df['Member ID'] == 100011].index[0]\n",
    "\n",
    "# Reorganize the rows\n",
    "merged_df = pd.concat([merged_df.loc[lines:], merged_df.loc[:lines-1]])\n",
    "merged_df.reset_index(drop=True, inplace=True)"
   ]
  },
  {
   "cell_type": "code",
   "execution_count": 16,
   "id": "e57cacb4",
   "metadata": {
    "scrolled": true
   },
   "outputs": [
    {
     "data": {
      "text/html": [
       "<div>\n",
       "<style scoped>\n",
       "    .dataframe tbody tr th:only-of-type {\n",
       "        vertical-align: middle;\n",
       "    }\n",
       "\n",
       "    .dataframe tbody tr th {\n",
       "        vertical-align: top;\n",
       "    }\n",
       "\n",
       "    .dataframe thead th {\n",
       "        text-align: right;\n",
       "    }\n",
       "</style>\n",
       "<table border=\"1\" class=\"dataframe\">\n",
       "  <thead>\n",
       "    <tr style=\"text-align: right;\">\n",
       "      <th></th>\n",
       "      <th>Member ID</th>\n",
       "      <th>Last name</th>\n",
       "      <th>First name</th>\n",
       "      <th>Address 1</th>\n",
       "      <th>Address 2</th>\n",
       "      <th>City</th>\n",
       "      <th>State</th>\n",
       "      <th>Country</th>\n",
       "      <th>Zip Code</th>\n",
       "      <th>Dues amount</th>\n",
       "      <th>Membership end date</th>\n",
       "      <th>Member type</th>\n",
       "    </tr>\n",
       "  </thead>\n",
       "  <tbody>\n",
       "    <tr>\n",
       "      <th>0</th>\n",
       "      <td>100011</td>\n",
       "      <td>Tsao</td>\n",
       "      <td>Danny</td>\n",
       "      <td>27 Wu Tzu St</td>\n",
       "      <td>Tamshui 251</td>\n",
       "      <td>NaN</td>\n",
       "      <td>NaN</td>\n",
       "      <td>Taiwan</td>\n",
       "      <td>NaN</td>\n",
       "      <td>$200</td>\n",
       "      <td>3/25/2021</td>\n",
       "      <td>Professional Member</td>\n",
       "    </tr>\n",
       "    <tr>\n",
       "      <th>1</th>\n",
       "      <td>100012</td>\n",
       "      <td>Lei</td>\n",
       "      <td>Colleen</td>\n",
       "      <td>88 6th Avenue Teda</td>\n",
       "      <td>300457 TIANJIN</td>\n",
       "      <td>NaN</td>\n",
       "      <td>NaN</td>\n",
       "      <td>China</td>\n",
       "      <td>NaN</td>\n",
       "      <td>$500</td>\n",
       "      <td>10/12/2023</td>\n",
       "      <td>Corporate Member</td>\n",
       "    </tr>\n",
       "  </tbody>\n",
       "</table>\n",
       "</div>"
      ],
      "text/plain": [
       "  Member ID Last name First name           Address 1       Address 2 City  \\\n",
       "0    100011      Tsao      Danny        27 Wu Tzu St     Tamshui 251  NaN   \n",
       "1    100012       Lei    Colleen  88 6th Avenue Teda  300457 TIANJIN  NaN   \n",
       "\n",
       "  State Country Zip Code Dues amount Membership end date          Member type  \n",
       "0   NaN  Taiwan      NaN        $200           3/25/2021  Professional Member  \n",
       "1   NaN   China      NaN        $500          10/12/2023     Corporate Member  "
      ]
     },
     "execution_count": 16,
     "metadata": {},
     "output_type": "execute_result"
    }
   ],
   "source": [
    "merged_df.head(2)"
   ]
  },
  {
   "cell_type": "markdown",
   "id": "265e7a22",
   "metadata": {},
   "source": [
    "<font size=\"4\"><b>Finding emails, moving to a separate column and indexing all users with unique member IDs</b></font>\n",
    "\n",
    "With Regular Expressions it is possible to search for emails by looking for the emails pattern:\n",
    "\n",
    "(r'^[\\w.-]+@[\\w.-]+\\.\\w+$')\n",
    "\n",
    "\n",
    "^ indicates the start of the string.\n",
    "\n",
    "[\\w\\.-]+ matches one or more alphanumeric characters, underscores (\\w), dots (.), or hyphens (-) before the \"@\" symbol.\n",
    "\"@\" matches the \"@\" character.\n",
    "\n",
    "[\\w\\.-]+ matches one or more alphanumeric characters, underscores (\\w), dots (.), or hyphens (-) after the \"@\" symbol.\n",
    "\\. matches the \".\" character.\n",
    "\n",
    "\\w+ matches one or more alphanumeric characters after the dot, representing the email domain extension.\n",
    "\n",
    "$ indicates the end of the string."
   ]
  },
  {
   "cell_type": "code",
   "execution_count": 17,
   "id": "c6dd60a1",
   "metadata": {},
   "outputs": [],
   "source": [
    "count = 100011\n",
    "# Create a new column 'Emails'\n",
    "merged_df['Emails'] = ''\n",
    "\n",
    "# Set the regex pattern to identify emails\n",
    "email_pattern = r'^[\\w\\.-]+@[\\w\\.-]+\\.\\w+$'\n",
    "\n",
    "# Iterate over each row of the dataframe\n",
    "for index, row in merged_df.iterrows():\n",
    "    # Check if the value in the \"Member ID\" column matches the email pattern\n",
    "    if re.match(email_pattern, str(row['Member ID'])):\n",
    "        # If it is an email, copy the value to the \"Emails\" column\n",
    "        merged_df.at[index, 'Emails'] = row['Member ID']\n",
    "    merged_df.at[index, 'Member ID'] = count\n",
    "    count += 1"
   ]
  },
  {
   "cell_type": "code",
   "execution_count": 18,
   "id": "9a441e87",
   "metadata": {
    "scrolled": true
   },
   "outputs": [
    {
     "data": {
      "text/html": [
       "<div>\n",
       "<style scoped>\n",
       "    .dataframe tbody tr th:only-of-type {\n",
       "        vertical-align: middle;\n",
       "    }\n",
       "\n",
       "    .dataframe tbody tr th {\n",
       "        vertical-align: top;\n",
       "    }\n",
       "\n",
       "    .dataframe thead th {\n",
       "        text-align: right;\n",
       "    }\n",
       "</style>\n",
       "<table border=\"1\" class=\"dataframe\">\n",
       "  <thead>\n",
       "    <tr style=\"text-align: right;\">\n",
       "      <th></th>\n",
       "      <th>Member ID</th>\n",
       "      <th>Last name</th>\n",
       "      <th>First name</th>\n",
       "      <th>Address 1</th>\n",
       "      <th>Address 2</th>\n",
       "      <th>City</th>\n",
       "      <th>State</th>\n",
       "      <th>Country</th>\n",
       "      <th>Zip Code</th>\n",
       "      <th>Dues amount</th>\n",
       "      <th>Membership end date</th>\n",
       "      <th>Member type</th>\n",
       "      <th>Emails</th>\n",
       "    </tr>\n",
       "  </thead>\n",
       "  <tbody>\n",
       "    <tr>\n",
       "      <th>19</th>\n",
       "      <td>100030</td>\n",
       "      <td>Lee</td>\n",
       "      <td>Chie Shin</td>\n",
       "      <td>P O Box 112-066</td>\n",
       "      <td>Auckland</td>\n",
       "      <td>NaN</td>\n",
       "      <td>NaN</td>\n",
       "      <td>New Zealand</td>\n",
       "      <td>1061</td>\n",
       "      <td>$100</td>\n",
       "      <td>6/28/2021</td>\n",
       "      <td>Student Associate</td>\n",
       "      <td></td>\n",
       "    </tr>\n",
       "    <tr>\n",
       "      <th>143</th>\n",
       "      <td>100154</td>\n",
       "      <td>Cook</td>\n",
       "      <td>Marie</td>\n",
       "      <td>202-5288 Melbourne St</td>\n",
       "      <td>202-5288 Melbourne St</td>\n",
       "      <td>Vancouver</td>\n",
       "      <td>BC</td>\n",
       "      <td>Canada</td>\n",
       "      <td>V5R 6E6</td>\n",
       "      <td>$199</td>\n",
       "      <td>Saturday, April 30, 2022</td>\n",
       "      <td>Professional Member</td>\n",
       "      <td>cookmarie@email.com</td>\n",
       "    </tr>\n",
       "    <tr>\n",
       "      <th>79</th>\n",
       "      <td>100090</td>\n",
       "      <td>Kither</td>\n",
       "      <td>Luc</td>\n",
       "      <td>13 Alleyne Ave</td>\n",
       "      <td>13 Alleyne Ave</td>\n",
       "      <td>ARMADALE</td>\n",
       "      <td>VIC</td>\n",
       "      <td>Australia</td>\n",
       "      <td>3143</td>\n",
       "      <td>$149</td>\n",
       "      <td>Wednesday, November 30, 2022</td>\n",
       "      <td>Academic Professional</td>\n",
       "      <td>kitherluc@email.com</td>\n",
       "    </tr>\n",
       "    <tr>\n",
       "      <th>4</th>\n",
       "      <td>100015</td>\n",
       "      <td>Nunez</td>\n",
       "      <td>Helmut</td>\n",
       "      <td>Andador Pinos 345</td>\n",
       "      <td>45235 Zapopan</td>\n",
       "      <td>NaN</td>\n",
       "      <td>JAL</td>\n",
       "      <td>Mexico</td>\n",
       "      <td>NaN</td>\n",
       "      <td>$200</td>\n",
       "      <td>7/29/2023</td>\n",
       "      <td>Professional Member</td>\n",
       "      <td></td>\n",
       "    </tr>\n",
       "  </tbody>\n",
       "</table>\n",
       "</div>"
      ],
      "text/plain": [
       "    Member ID Last name First name              Address 1  \\\n",
       "19     100030       Lee  Chie Shin        P O Box 112-066   \n",
       "143    100154      Cook      Marie  202-5288 Melbourne St   \n",
       "79     100090    Kither        Luc         13 Alleyne Ave   \n",
       "4      100015     Nunez     Helmut      Andador Pinos 345   \n",
       "\n",
       "                 Address 2       City State      Country Zip Code Dues amount  \\\n",
       "19                Auckland        NaN   NaN  New Zealand     1061        $100   \n",
       "143  202-5288 Melbourne St  Vancouver    BC       Canada  V5R 6E6        $199   \n",
       "79          13 Alleyne Ave   ARMADALE   VIC    Australia     3143        $149   \n",
       "4            45235 Zapopan        NaN   JAL       Mexico      NaN        $200   \n",
       "\n",
       "              Membership end date            Member type               Emails  \n",
       "19                      6/28/2021      Student Associate                       \n",
       "143      Saturday, April 30, 2022    Professional Member  cookmarie@email.com  \n",
       "79   Wednesday, November 30, 2022  Academic Professional  kitherluc@email.com  \n",
       "4                       7/29/2023    Professional Member                       "
      ]
     },
     "execution_count": 18,
     "metadata": {},
     "output_type": "execute_result"
    }
   ],
   "source": [
    "# View samples of the merged_df with all Member ID's standardized\n",
    "merged_df.sample(4)"
   ]
  },
  {
   "cell_type": "markdown",
   "id": "f9d38fdc",
   "metadata": {},
   "source": [
    "<font size=\"4\"><b>Dealing with different date formats</b></font>\n",
    "\n",
    "The 'Membership end date' column contains two varying date formats. To address this issue and ensure consistency, a conversion process was applied using the datetime library. By transforming all dates into a standardized format of 'mm/dd/yyyy', the dataset now allows for accurate time-based analyses and comparisons."
   ]
  },
  {
   "cell_type": "code",
   "execution_count": 19,
   "id": "7df69a84",
   "metadata": {},
   "outputs": [],
   "source": [
    "def convert_date(date_str):\n",
    "    # Verify if it is a NA/NaN (null) value\n",
    "    if pd.isnull(date_str):  \n",
    "        return pd.NaT\n",
    "    # Verify the date if it is already on the format 'mm/dd/yyyy'\n",
    "    if re.match(r'\\d{1,2}/\\d{1,2}/\\d{4}', date_str): \n",
    "        return date_str\n",
    "    # Try to convert the date into the 'mm/dd/yyyy' format.\n",
    "    try:\n",
    "        date = datetime.strptime(date_str, '%A, %B %d, %Y')\n",
    "        return date.strftime('%m/%d/%Y')\n",
    "    except ValueError:\n",
    "        # exception to try to to convert the date into other known formats.\n",
    "        try:\n",
    "            date = datetime.strptime(date_str, '%A, %B %d, %Y')\n",
    "            return date.strftime('%m/%d/%Y')\n",
    "        except ValueError:\n",
    "            # Returns NaT for invalid dates or in other date formats\n",
    "            return pd.NaT  \n",
    "        \n",
    "# Apply the function convert_date to the column \"Membership end date\".\n",
    "merged_df['Membership end date'] = merged_df['Membership end date'].apply(convert_date)"
   ]
  },
  {
   "cell_type": "code",
   "execution_count": 20,
   "id": "f10f96db",
   "metadata": {
    "scrolled": true
   },
   "outputs": [
    {
     "data": {
      "text/html": [
       "<div>\n",
       "<style scoped>\n",
       "    .dataframe tbody tr th:only-of-type {\n",
       "        vertical-align: middle;\n",
       "    }\n",
       "\n",
       "    .dataframe tbody tr th {\n",
       "        vertical-align: top;\n",
       "    }\n",
       "\n",
       "    .dataframe thead th {\n",
       "        text-align: right;\n",
       "    }\n",
       "</style>\n",
       "<table border=\"1\" class=\"dataframe\">\n",
       "  <thead>\n",
       "    <tr style=\"text-align: right;\">\n",
       "      <th></th>\n",
       "      <th>Member ID</th>\n",
       "      <th>Last name</th>\n",
       "      <th>First name</th>\n",
       "      <th>Address 1</th>\n",
       "      <th>Address 2</th>\n",
       "      <th>City</th>\n",
       "      <th>State</th>\n",
       "      <th>Country</th>\n",
       "      <th>Zip Code</th>\n",
       "      <th>Dues amount</th>\n",
       "      <th>Membership end date</th>\n",
       "      <th>Member type</th>\n",
       "      <th>Emails</th>\n",
       "    </tr>\n",
       "  </thead>\n",
       "  <tbody>\n",
       "    <tr>\n",
       "      <th>19</th>\n",
       "      <td>100030</td>\n",
       "      <td>Lee</td>\n",
       "      <td>Chie Shin</td>\n",
       "      <td>P O Box 112-066</td>\n",
       "      <td>Auckland</td>\n",
       "      <td>NaN</td>\n",
       "      <td>NaN</td>\n",
       "      <td>New Zealand</td>\n",
       "      <td>1061</td>\n",
       "      <td>$100</td>\n",
       "      <td>6/28/2021</td>\n",
       "      <td>Student Associate</td>\n",
       "      <td></td>\n",
       "    </tr>\n",
       "    <tr>\n",
       "      <th>73</th>\n",
       "      <td>100084</td>\n",
       "      <td>Wright</td>\n",
       "      <td>Mohamed</td>\n",
       "      <td>135 Dundas St</td>\n",
       "      <td>135 Dundas St</td>\n",
       "      <td>Cambridge</td>\n",
       "      <td>ON</td>\n",
       "      <td>Canada</td>\n",
       "      <td>N1R 5X1</td>\n",
       "      <td>$999</td>\n",
       "      <td>05/31/2022</td>\n",
       "      <td>Sponsor</td>\n",
       "      <td>wrightmohamed@email.com</td>\n",
       "    </tr>\n",
       "  </tbody>\n",
       "</table>\n",
       "</div>"
      ],
      "text/plain": [
       "   Member ID Last name First name        Address 1      Address 2       City  \\\n",
       "19    100030       Lee  Chie Shin  P O Box 112-066       Auckland        NaN   \n",
       "73    100084    Wright    Mohamed    135 Dundas St  135 Dundas St  Cambridge   \n",
       "\n",
       "   State      Country Zip Code Dues amount Membership end date  \\\n",
       "19   NaN  New Zealand     1061        $100           6/28/2021   \n",
       "73    ON       Canada  N1R 5X1        $999          05/31/2022   \n",
       "\n",
       "          Member type                   Emails  \n",
       "19  Student Associate                           \n",
       "73            Sponsor  wrightmohamed@email.com  "
      ]
     },
     "execution_count": 20,
     "metadata": {},
     "output_type": "execute_result"
    }
   ],
   "source": [
    "# View samples Dataframe with dates standardized\n",
    "merged_df.sample(2)"
   ]
  },
  {
   "cell_type": "markdown",
   "id": "d95bd7eb",
   "metadata": {},
   "source": [
    "<font size=\"4\"><b>Data Visualizations</b></font>\n",
    "\n",
    "In order to make some visualizations, it is necessary to format certain numerical columns appropriately."
   ]
  },
  {
   "cell_type": "code",
   "execution_count": 21,
   "id": "aa11d210",
   "metadata": {},
   "outputs": [],
   "source": [
    "# Remove the \"$\" symbol from the 'Dues amount' column and convert it to numeric\n",
    "merged_df['Dues amount'] = merged_df['Dues amount'].astype(str).replace({'\\$': '', ',': ''}, regex=True).astype(float)"
   ]
  },
  {
   "cell_type": "markdown",
   "id": "fdf877c0",
   "metadata": {},
   "source": [
    "<font size=\"3\"><b>Barchart showing the Countries with the highest total dues amount</b></font>"
   ]
  },
  {
   "cell_type": "code",
   "execution_count": 22,
   "id": "7f23a272",
   "metadata": {
    "scrolled": false
   },
   "outputs": [
    {
     "name": "stdout",
     "output_type": "stream",
     "text": [
      "<class 'pandas.core.frame.DataFrame'>\n",
      "               Country  Dues amount Percentage\n",
      "4               Canada      29439.0      66.1%\n",
      "8              Germany       2497.0       5.6%\n",
      "14         Netherlands       1994.0       4.5%\n",
      "13              Mexico       1500.0       3.4%\n",
      "19           Singapore       1498.0       3.4%\n",
      "5                China       1349.0       3.0%\n",
      "21               Spain        998.0       2.2%\n",
      "10               India        800.0       1.8%\n",
      "23         Switzerland        600.0       1.3%\n",
      "26      United Kingdom        600.0       1.3%\n",
      "24              Taiwan        349.0       0.8%\n",
      "7               France        300.0       0.7%\n",
      "9            Hong Kong        200.0       0.4%\n",
      "12            Malaysia        200.0       0.4%\n",
      "1              Belgium        200.0       0.4%\n",
      "25            Thailand        200.0       0.4%\n",
      "17         Philippines        200.0       0.4%\n",
      "11  Korea, Republic of        200.0       0.4%\n",
      "22              Sweden        200.0       0.4%\n",
      "20        South Africa        199.0       0.4%\n",
      "18        Saudi Arabia        199.0       0.4%\n",
      "6           Costa Rica        199.0       0.4%\n",
      "16              Norway        199.0       0.4%\n",
      "0            Australia        149.0       0.3%\n",
      "3             Bulgaria        100.0       0.2%\n",
      "2               Brazil        100.0       0.2%\n",
      "15         New Zealand        100.0       0.2%\n"
     ]
    },
    {
     "data": {
      "image/png": "[encoded data removed]",
      "text/plain": [
       "<Figure size 2000x700 with 1 Axes>"
      ]
     },
     "metadata": {},
     "output_type": "display_data"
    }
   ],
   "source": [
    "# Group the data by country and calculate the sum of 'Dues Amount'\n",
    "country_dues = merged_df.groupby('Country')['Dues amount'].sum().reset_index()\n",
    "print(type(country_dues))\n",
    "\n",
    "# Total of dues across all countries\n",
    "total_dues = country_dues['Dues amount'].sum()\n",
    "\n",
    "# New column 'Percentage' to store the percentages \n",
    "country_dues['Percentage'] = (country_dues['Dues amount'] / total_dues) * 100\n",
    "country_dues['Percentage'] = country_dues['Percentage'].round(1).astype(str) + '%'\n",
    "\n",
    "# Sort the values in descending order\n",
    "country_dues = country_dues.sort_values(by='Dues amount', ascending=False)\n",
    "\n",
    "# Showing 'Dues Amount' sum for each Country and the Percentages\n",
    "print(country_dues)\n",
    "\n",
    "# Create the visualization using Seaborn\n",
    "plt.figure(figsize=(20, 7))\n",
    "sns.barplot(x=country_dues['Country'], y=country_dues['Dues amount'])\n",
    "plt.xlabel('Country')\n",
    "plt.ylabel('Total Dues Amount')\n",
    "plt.title('Total Dues Amount by Country')\n",
    "plt.xticks(rotation=45)\n",
    "plt.show()"
   ]
  },
  {
   "cell_type": "markdown",
   "id": "de08acd4",
   "metadata": {},
   "source": [
    "<font size=\"3\"><b>Barchart Conclusions</b></font>\n",
    "\n",
    "Based on the output of the total dues amount by country, we can draw the following conclusions:\n",
    "\n",
    "* Canada has the highest total dues amount, with a sum of \\$29,439. This indicates that Canada contributes the most to the overall dues revenue (66.1%);\n",
    "\n",
    "* Germany has the second highest total dues amount, with a sum of \\$2,497;\n",
    "\n",
    "* The Netherlands follows with a total dues amount of \\$1,994;\n",
    "\n",
    "* Other countries, such as Mexico, Singapore, China, Spain, India, Switzerland, and the United Kingdom, also contribute to the overall dues revenue, although their amounts are relatively lower compared to Canada;\n",
    "\n",
    "* These findings suggest that Canada plays a significant role in generating dues revenue, while other countries contribute to a lesser extent. Further analysis could explore the distribution of dues amounts within each country and identify any potential patterns or factors influencing the variations in dues contributions among different countries."
   ]
  },
  {
   "cell_type": "markdown",
   "id": "72cfad1f",
   "metadata": {},
   "source": [
    "<font size=\"3\"><b> .describe() function shows the 5 number summary :</b></font>\n",
    "\n",
    "* Mean/Median/1st and 3rd quartiles, standard deviation, minimum/maximum due value."
   ]
  },
  {
   "cell_type": "code",
   "execution_count": 23,
   "id": "45f2f0d3",
   "metadata": {
    "scrolled": false
   },
   "outputs": [
    {
     "data": {
      "text/html": [
       "<div>\n",
       "<style scoped>\n",
       "    .dataframe tbody tr th:only-of-type {\n",
       "        vertical-align: middle;\n",
       "    }\n",
       "\n",
       "    .dataframe tbody tr th {\n",
       "        vertical-align: top;\n",
       "    }\n",
       "\n",
       "    .dataframe thead th {\n",
       "        text-align: right;\n",
       "    }\n",
       "</style>\n",
       "<table border=\"1\" class=\"dataframe\">\n",
       "  <thead>\n",
       "    <tr style=\"text-align: right;\">\n",
       "      <th></th>\n",
       "      <th>Dues amount</th>\n",
       "    </tr>\n",
       "  </thead>\n",
       "  <tbody>\n",
       "    <tr>\n",
       "      <th>count</th>\n",
       "      <td>151.000000</td>\n",
       "    </tr>\n",
       "    <tr>\n",
       "      <th>mean</th>\n",
       "      <td>295.158940</td>\n",
       "    </tr>\n",
       "    <tr>\n",
       "      <th>std</th>\n",
       "      <td>414.922822</td>\n",
       "    </tr>\n",
       "    <tr>\n",
       "      <th>min</th>\n",
       "      <td>99.000000</td>\n",
       "    </tr>\n",
       "    <tr>\n",
       "      <th>25%</th>\n",
       "      <td>149.000000</td>\n",
       "    </tr>\n",
       "    <tr>\n",
       "      <th>50%</th>\n",
       "      <td>199.000000</td>\n",
       "    </tr>\n",
       "    <tr>\n",
       "      <th>75%</th>\n",
       "      <td>200.000000</td>\n",
       "    </tr>\n",
       "    <tr>\n",
       "      <th>max</th>\n",
       "      <td>2499.000000</td>\n",
       "    </tr>\n",
       "  </tbody>\n",
       "</table>\n",
       "</div>"
      ],
      "text/plain": [
       "       Dues amount\n",
       "count   151.000000\n",
       "mean    295.158940\n",
       "std     414.922822\n",
       "min      99.000000\n",
       "25%     149.000000\n",
       "50%     199.000000\n",
       "75%     200.000000\n",
       "max    2499.000000"
      ]
     },
     "execution_count": 23,
     "metadata": {},
     "output_type": "execute_result"
    }
   ],
   "source": [
    "# Filter missing values in column 'Dues amount'\n",
    "df_filtered = merged_df.dropna(subset=['Dues amount'])\n",
    "df_filtered.describe()"
   ]
  },
  {
   "cell_type": "markdown",
   "id": "43971a1c",
   "metadata": {},
   "source": [
    "<font size=\"3\"><b> .describe() Conclusions: </b></font>\n",
    "Based on the descriptive analysis of the 'Dues amount' values in the filtered dataframe, we can draw some conclusions.\n",
    "\n",
    "The number of valid observations for 'Dues amount' is 151. The mean of the dues payments is approximately 295.16, with a standard deviation of 414.92. This indicates considerable variability in the payment amounts among the members.\n",
    "\n",
    "The minimum value found is 99, while the maximum value is 2499. This suggests a wide range in the dues payments made by the members.\n",
    "\n",
    "Looking at the quartiles, we can see that 25% of the values are below 149, while 50% are below 199. The median value (50th percentile) is 199, indicating that half of the members paid an amount less than this, and half paid an amount higher.\n",
    "\n",
    "The third quartile (75th percentile) is 200, suggesting that the majority of members pay an amount equal to or close to this. However, it is worth noting that there is a considerable difference between the third quartile and the maximum value, indicating the presence of potential outliers or members with significantly higher payments compared to the majority.\n",
    "\n",
    "In summary, the 'Dues amount' values in the dataframe show a wide variation in the dues payments made by the members, with a relatively high mean. It is important to further investigate members with very high values to understand the factors contributing to these significantly higher payments."
   ]
  },
  {
   "cell_type": "markdown",
   "id": "3c6bea0e",
   "metadata": {},
   "source": [
    "<font size=\"3\"><b>Boxplot and Histogram of dues Amount:</b></font>"
   ]
  },
  {
   "cell_type": "code",
   "execution_count": 24,
   "id": "fd352b1f",
   "metadata": {
    "scrolled": false
   },
   "outputs": [
    {
     "data": {
      "image/png": "[encoded data removed]",
      "text/plain": [
       "<Figure size 1000x500 with 2 Axes>"
      ]
     },
     "metadata": {},
     "output_type": "display_data"
    }
   ],
   "source": [
    "# Create subplots with 1 row and 2 columns\n",
    "fig, axes = plt.subplots(1, 2, figsize=(10, 5))\n",
    "\n",
    "# Plot the boxplot on the first subplot\n",
    "sns.boxplot(data=df_filtered, y='Dues amount', ax=axes[0])\n",
    "axes[0].set_title('Boxplot of Dues Amount')\n",
    "axes[0].set_ylabel('Dues Amount')\n",
    "\n",
    "# Plot the histogram on the second subplot\n",
    "sns.histplot(data=merged_df, x='Dues amount', bins=10, ax=axes[1])\n",
    "axes[1].set_xlabel('Dues Amount')\n",
    "axes[1].set_ylabel('Frequency')\n",
    "axes[1].set_title('Distribution of Dues Amount')\n",
    "\n",
    "# Adjust the layout and spacing between subplots\n",
    "plt.tight_layout()\n",
    "\n",
    "# Display the plot\n",
    "plt.show()"
   ]
  },
  {
   "cell_type": "markdown",
   "id": "7224c016",
   "metadata": {},
   "source": [
    "<font size=\"3\"><b>Boxplot Conclusions:</b></font>\n",
    "\n",
    "* The boxplot provides valuable insights into the distribution of the 'Dues amount' in the dataset;\n",
    "\n",
    "* The median value, represented by the line inside the box, is relatively low, indicating that the majority of members tend to pay around 100 to 250 dollars in dues. This suggests that the most common payment range is within this interval;\n",
    "\n",
    "* The box itself, which represents the interquartile range (IQR), is considerably narrow, indicating a tight distribution of values within the middle 50% of the data. This further supports the observation that the majority of members pay dues within a similar range;\n",
    "\n",
    "* The whiskers, which extend from the box, show the range of most of the data. In this case, the whiskers are relatively short, suggesting that the majority of dues payments fall within a limited range;\n",
    "\n",
    "* However, the presence of several outliers, depicted as individual points beyond the whiskers (also shown on the histogram), indicates the existence of members who pay significantly higher amounts in dues. These outliers include values as high as 2500 dollars and others ranging from 400 to 1000 dollars. These outliers can potentially skew the mean and should be further investigated to understand the reasons behind these higher payments;\n",
    "\n",
    "* In conclusion, the boxplot analysis reveals that while the majority of members pay dues within a relatively low to moderate range, there are notable outliers with significantly higher payment amounts. Further exploration and investigation of these outliers can provide valuable insights into the factors influencing the dues payments in this dataset;\n",
    "\n",
    "<font size=\"3\"><b>Histogram Conclusions:</b></font>\n",
    "\n",
    " * Majority of Dues: The histogram shows a large bar indicating that the majority of dues amounts fall within the range of 100 dollars to 300 dollars. This suggests that a significant number of members pay dues within this range, making it the most common payment category;\n",
    " \n",
    " * Few High Dues: There is a small bar to the right of the main bar representing dues amounts greater than \\$500. This indicates that there are relatively fewer members who pay higher dues amounts. These members might belong to a different membership category or have specific privileges or benefits associated with their higher dues;\n",
    "\n",
    " * Outlier Dues: The histogram also reveals a single isolated bar at the extreme right end, representing dues of \\$2500. This indicates the presence of an outlier or a few outliers with significantly higher dues amounts. These outliers might be associated with unique circumstances or special membership arrangements;\n",
    "\n",
    " * In conclusion, the histogram analysis of dues amounts suggests that the majority of members pay dues in the range of 100 dollars to 300 dollars, while a smaller portion pays higher amounts. The presence of outliers with significantly higher dues indicates the existence of exceptional cases or distinct membership categories. Further investigation into the reasons behind these higher dues and outliers can provide insights into the membership structure and financial dynamics of the organization."
   ]
  },
  {
   "cell_type": "markdown",
   "id": "50d76cb1",
   "metadata": {},
   "source": [
    "<font size=\"3\"><b>Barchart showing the number of users from each country</b></font>"
   ]
  },
  {
   "cell_type": "code",
   "execution_count": 25,
   "id": "5b6043a9",
   "metadata": {},
   "outputs": [
    {
     "name": "stdout",
     "output_type": "stream",
     "text": [
      "                    Count Percentage\n",
      "Canada                 84      55.6%\n",
      "Netherlands            12       7.9%\n",
      "Mexico                  6       4.0%\n",
      "Singapore               5       3.3%\n",
      "Switzerland             4       2.6%\n",
      "India                   4       2.6%\n",
      "Spain                   4       2.6%\n",
      "Germany                 4       2.6%\n",
      "China                   4       2.6%\n",
      "France                  3       2.0%\n",
      "United Kingdom          3       2.0%\n",
      "Taiwan                  2       1.3%\n",
      "Belgium                 2       1.3%\n",
      "South Africa            1       0.7%\n",
      "Australia               1       0.7%\n",
      "Saudi Arabia            1       0.7%\n",
      "Costa Rica              1       0.7%\n",
      "Brazil                  1       0.7%\n",
      "Sweden                  1       0.7%\n",
      "Korea, Republic of      1       0.7%\n",
      "Bulgaria                1       0.7%\n",
      "Hong Kong               1       0.7%\n",
      "Thailand                1       0.7%\n",
      "Philippines             1       0.7%\n",
      "Malaysia                1       0.7%\n",
      "New Zealand             1       0.7%\n",
      "Norway                  1       0.7%\n"
     ]
    },
    {
     "data": {
      "image/png": "[encoded data removed]",
      "text/plain": [
       "<Figure size 1800x600 with 1 Axes>"
      ]
     },
     "metadata": {},
     "output_type": "display_data"
    }
   ],
   "source": [
    "import matplotlib.pyplot as plt\n",
    "\n",
    "# Count of occurrences for each country\n",
    "country_counts = merged_df['Country'].value_counts()\n",
    "#print(country_counts)\n",
    "\n",
    "# Calculate the percentages\n",
    "country_percentages = (country_counts / country_counts.sum()) * 100\n",
    "\n",
    "# Format the percentages to one decimal place\n",
    "country_percentages = country_percentages.round(1).astype(str) + '%'\n",
    "\n",
    "# Create a new DataFrame with country counts and percentages\n",
    "country_data = pd.DataFrame({'Count': country_counts.values, 'Percentage': country_percentages})\n",
    "\n",
    "# Displaying the new dataframe with Counts and Percentages for comparisons\n",
    "print(country_data)\n",
    "\n",
    "# Barplot for the count of occurrences\n",
    "plt.figure(figsize=(18, 6))\n",
    "sns.barplot(x=country_counts.index, y=country_counts.values, palette='Set2')\n",
    "plt.title('Occurrences of each Country')\n",
    "plt.xlabel('Country')\n",
    "plt.ylabel('Count')\n",
    "plt.xticks(rotation=45)\n",
    "\n",
    "plt.show()"
   ]
  },
  {
   "cell_type": "markdown",
   "id": "ce793ee4",
   "metadata": {},
   "source": [
    "<font size=\"3\"><b>Barplot Conclusions</b></font>\n",
    "\n",
    "Based on the output of the value counts for the 'Country' column, we can draw the following conclusions:\n",
    "\n",
    "* Canada has the highest number of occurrences, with 84 entries in the dataset, representing 55.6% of the total users;\n",
    "\n",
    "* The Netherlands has the second highest number of occurrences, with 12 entries, representing only 7.9% of the total users; \n",
    "\n",
    "* There are several countries with a moderate number of occurrences, including Mexico, Singapore, Switzerland, India, Spain, Germany, and China;\n",
    "\n",
    "* Some countries appear less frequently, such as France, United Kingdom, Taiwan, Belgium, South Africa, Australia, Saudi Arabia, Costa Rica, Brazil, Sweden, Korea (Republic of), Bulgaria, Hong Kong, Thailand, Philippines, Malaysia, New Zealand, and Norway;\n",
    "\n",
    "* These findings indicate that the dataset is skewed towards Canada, followed by a mix of other countries with varying representation;\n",
    "\n",
    "* It may be interesting to further explore the distribution of other variables based on country or consider adjusting the dataset for a more balanced representation if necessary."
   ]
  },
  {
   "cell_type": "markdown",
   "id": "f3ed2b4e",
   "metadata": {},
   "source": [
    "<font size=\"3\"><b>Get the total number of members by member type:</b></font>"
   ]
  },
  {
   "cell_type": "code",
   "execution_count": 26,
   "id": "7a9d028d",
   "metadata": {
    "scrolled": false
   },
   "outputs": [
    {
     "name": "stdout",
     "output_type": "stream",
     "text": [
      "                       Count Percentage\n",
      "Member type                            \n",
      "Professional Member       87      57.6%\n",
      "Student Associate         19      12.6%\n",
      "Young Professional        12       7.9%\n",
      "Academic Professional      9       6.0%\n",
      "Chapter                    6       4.0%\n",
      "Corporate Member           6       4.0%\n",
      "Corporate Voting           5       3.3%\n",
      "Lifetime Member            4       2.6%\n",
      "Sponsor                    3       2.0%\n"
     ]
    },
    {
     "data": {
      "image/png": "[encoded data removed]",
      "text/plain": [
       "<Figure size 1200x600 with 1 Axes>"
      ]
     },
     "metadata": {},
     "output_type": "display_data"
    }
   ],
   "source": [
    "# Fixing a typo in 'Member type' column\n",
    "merged_df['Member type'] = merged_df['Member type'].replace('{rofessional Member', 'Professional Member')\n",
    "\n",
    "# .groupby('column')['column'].count()\n",
    "# Grouping the members by their 'Member type' column and counting the number of occurrences for each type\n",
    "count_by_member_type = merged_df.groupby('Member type')['Member ID'].count()\n",
    "count_by_member_type = count_by_member_type.sort_values(ascending=False)\n",
    "\n",
    "# Calculate the total count of members\n",
    "total_members = count_by_member_type.sum()\n",
    "\n",
    "# Calculate the percentages\n",
    "member_type_percentages = (count_by_member_type / total_members) * 100\n",
    "\n",
    "# Format the percentages to one decimal place\n",
    "member_type_percentages = member_type_percentages.round(1).astype(str) + '%'\n",
    "\n",
    "# Create a new DataFrame with member type counts and percentages\n",
    "member_type_data = pd.DataFrame({'Count': count_by_member_type.values, 'Percentage': member_type_percentages})\n",
    "\n",
    "# Displaying the new dataframe with Count and Percentages for comparisons\n",
    "print(member_type_data)\n",
    "\n",
    "# Creating the barplot\n",
    "plt.figure(figsize=(12, 6))\n",
    "sns.barplot(x=count_by_member_type.index, y=count_by_member_type.values, palette='Set3')\n",
    "plt.xlabel('Member Type')\n",
    "plt.ylabel('Count')\n",
    "plt.title('Count of Members by Member Type')\n",
    "plt.xticks(rotation=45)\n",
    "\n",
    "plt.show()"
   ]
  },
  {
   "cell_type": "markdown",
   "id": "829baa8a",
   "metadata": {},
   "source": [
    "<font size=\"3\"><b>Barplot Conclusions</b></font>\n",
    "\n",
    "Based on the output of the code, here are some conclusions that can be drawn:\n",
    "\n",
    "* Professional Member: The most common member type in the dataset is \"Professional Member\" with a count of 87. This indicates a significant presence of professionals in the membership.\n",
    "\n",
    "* Student Associate: The second most common member type is \"Student Associate\" with a count of 19. This suggests the presence of students or individuals in the early stages of their careers.\n",
    "\n",
    "* Young Professional: \"Young Professional\" is the third most common member type with a count of 12. This indicates a subgroup of members who are in the early stages of their professional careers.\n",
    "\n",
    "* Academic Professional: There are 9 members classified as \"Academic Professional,\" suggesting a presence of individuals involved in academic or research fields.\n",
    "\n",
    "* Chapter, Corporate Member, Corporate Voting, Lifetime Member, and Sponsor: These member types have relatively lower counts compared to the previously mentioned types. It may be worth exploring these categories further to understand their specific characteristics and roles within the organization.\n",
    "\n",
    "* These conclusions provide insights into the distribution of members across different types and can help in understanding the composition and diversity within the membership. Further analysis can be performed on each member type to uncover additional patterns or trends that may be relevant to the organization's objectives."
   ]
  },
  {
   "cell_type": "markdown",
   "id": "e8d344bc",
   "metadata": {},
   "source": [
    "<font size=\"3\"><b>Finding the individuals with the highest dues amount by country</b></font>"
   ]
  },
  {
   "cell_type": "code",
   "execution_count": 27,
   "id": "86199b07",
   "metadata": {
    "scrolled": true
   },
   "outputs": [
    {
     "data": {
      "text/plain": [
       "Country\n",
       "Canada                2499.0\n",
       "Germany               1000.0\n",
       "Mexico                 500.0\n",
       "China                  500.0\n",
       "Spain                  500.0\n",
       "Singapore              500.0\n",
       "Netherlands            299.0\n",
       "Thailand               200.0\n",
       "Taiwan                 200.0\n",
       "Switzerland            200.0\n",
       "Sweden                 200.0\n",
       "Philippines            200.0\n",
       "United Kingdom         200.0\n",
       "Malaysia               200.0\n",
       "Korea, Republic of     200.0\n",
       "India                  200.0\n",
       "Hong Kong              200.0\n",
       "Norway                 199.0\n",
       "Saudi Arabia           199.0\n",
       "South Africa           199.0\n",
       "Costa Rica             199.0\n",
       "Australia              149.0\n",
       "Belgium                100.0\n",
       "New Zealand            100.0\n",
       "France                 100.0\n",
       "Bulgaria               100.0\n",
       "Brazil                 100.0\n",
       "Name: Dues amount, dtype: float64"
      ]
     },
     "execution_count": 27,
     "metadata": {},
     "output_type": "execute_result"
    }
   ],
   "source": [
    "max_dues_by_country = merged_df.groupby('Country')['Dues amount'].max()\n",
    "max_dues_by_country = max_dues_by_country.sort_values(ascending=False)\n",
    "max_dues_by_country"
   ]
  },
  {
   "cell_type": "markdown",
   "id": "0c9221ff",
   "metadata": {},
   "source": [
    "<font size=\"3\"><b>Conclusions</b></font>\n",
    "\n",
    "The output from the code provides insights into the maximum dues amount paid by members in each country. Here are some observations:\n",
    "\n",
    "* Canada has a user with the highest maximum dues amount, with a value of 2499.0;\n",
    "\n",
    "* Germany, Mexico, China, Spain, Singapore, also have users with relatively high maximum dues amounts;\n",
    "\n",
    "* The range of maximum dues amounts varies across different countries, indicating variations in membership fees or member contributions;\n",
    "\n",
    "* Understanding the variations in maximum dues amounts can help identify countries where members have a higher willingness or capacity to contribute financially;\n",
    "\n",
    "* The findings can be used to analyze the engagement of members in different countries, as higher dues amounts may reflect a stronger commitment to the organization or higher membership benefits."
   ]
  },
  {
   "cell_type": "markdown",
   "id": "664a87c8",
   "metadata": {},
   "source": [
    "<font size=\"3\"><b>Extra Visualization: Canada is leading all the lists so i decided to check for what places in Canada we have more users</b></font>"
   ]
  },
  {
   "cell_type": "code",
   "execution_count": 28,
   "id": "e63350a8",
   "metadata": {
    "scrolled": true
   },
   "outputs": [
    {
     "name": "stdout",
     "output_type": "stream",
     "text": [
      "<class 'pandas.core.series.Series'>\n",
      "Dundas St 135 Dundas St               2\n",
      "Plessis Rd Springfield                1\n",
      "Elgin St Brantford                    1\n",
      "Steeles Ave West Apt. 1111 Toronto    1\n",
      "Cedar Way Maple Ridge                 1\n",
      "Name: Street, dtype: int64\n"
     ]
    }
   ],
   "source": [
    "# Filter only data from Canada\n",
    "canada_df = merged_df[merged_df['Country'] == 'Canada'].copy()\n",
    "\n",
    "# Combining address columns\n",
    "canada_df['Address'] = canada_df['Address 1'].fillna('') + ' ' + canada_df['Address 2'].fillna('')\n",
    "\n",
    "# Separate the house number and the street/avenue name\n",
    "canada_df[['House Number', 'Street']] = canada_df['Address'].str.extract(r'^(\\d+)\\s+(.*)$')\n",
    "\n",
    "# Calculate the address counts\n",
    "address_counts = canada_df['Street'].value_counts().sort_values(ascending=False)\n",
    "\n",
    "# Print the five most-common addresses\n",
    "print(type(address_counts))\n",
    "print(address_counts.head())"
   ]
  },
  {
   "cell_type": "markdown",
   "id": "92ffc419",
   "metadata": {},
   "source": [
    "# Imports for the K-means ML Model.\n",
    "* KMeans is known to have a memory leak issue on Windows with the MKL (Math Kernel Library) library when there are fewer divisions (chunks) than available threads.\n",
    "* To avoid this problem, the environment variable OMP_NUM_THREADS will be set to 1 before running the code."
   ]
  },
  {
   "cell_type": "code",
   "execution_count": 29,
   "id": "4360d98b",
   "metadata": {},
   "outputs": [],
   "source": [
    "import os\n",
    "os.environ['OMP_NUM_THREADS'] = '1'\n",
    "import seaborn as sns\n",
    "import matplotlib.pyplot as plt\n",
    "from sklearn.preprocessing import LabelEncoder\n",
    "from sklearn.preprocessing import MinMaxScaler\n",
    "from sklearn.preprocessing import StandardScaler\n",
    "from sklearn.cluster import KMeans"
   ]
  },
  {
   "cell_type": "markdown",
   "id": "f943396e",
   "metadata": {},
   "source": [
    "<font size=\"3\"><b>Before applying the algorithm, the following step is required: </b></font>\n",
    "* Normalize Dues amount variable to ensure they are at the same scale as other features utilizing StandardScaler"
   ]
  },
  {
   "cell_type": "code",
   "execution_count": 30,
   "id": "0aa715e6",
   "metadata": {},
   "outputs": [
    {
     "data": {
      "text/html": [
       "<div>\n",
       "<style scoped>\n",
       "    .dataframe tbody tr th:only-of-type {\n",
       "        vertical-align: middle;\n",
       "    }\n",
       "\n",
       "    .dataframe tbody tr th {\n",
       "        vertical-align: top;\n",
       "    }\n",
       "\n",
       "    .dataframe thead th {\n",
       "        text-align: right;\n",
       "    }\n",
       "</style>\n",
       "<table border=\"1\" class=\"dataframe\">\n",
       "  <thead>\n",
       "    <tr style=\"text-align: right;\">\n",
       "      <th></th>\n",
       "      <th>Member ID</th>\n",
       "      <th>Last name</th>\n",
       "      <th>First name</th>\n",
       "      <th>Address 1</th>\n",
       "      <th>Address 2</th>\n",
       "      <th>City</th>\n",
       "      <th>State</th>\n",
       "      <th>Country</th>\n",
       "      <th>Zip Code</th>\n",
       "      <th>Dues amount</th>\n",
       "      <th>Membership end date</th>\n",
       "      <th>Member type</th>\n",
       "      <th>Emails</th>\n",
       "    </tr>\n",
       "  </thead>\n",
       "  <tbody>\n",
       "    <tr>\n",
       "      <th>0</th>\n",
       "      <td>100011</td>\n",
       "      <td>Tsao</td>\n",
       "      <td>Danny</td>\n",
       "      <td>27 Wu Tzu St</td>\n",
       "      <td>Tamshui 251</td>\n",
       "      <td>NaN</td>\n",
       "      <td>NaN</td>\n",
       "      <td>Taiwan</td>\n",
       "      <td>NaN</td>\n",
       "      <td>200.0</td>\n",
       "      <td>3/25/2021</td>\n",
       "      <td>Professional Member</td>\n",
       "      <td></td>\n",
       "    </tr>\n",
       "  </tbody>\n",
       "</table>\n",
       "</div>"
      ],
      "text/plain": [
       "  Member ID Last name First name     Address 1    Address 2 City State  \\\n",
       "0    100011      Tsao      Danny  27 Wu Tzu St  Tamshui 251  NaN   NaN   \n",
       "\n",
       "  Country Zip Code  Dues amount Membership end date          Member type  \\\n",
       "0  Taiwan      NaN        200.0           3/25/2021  Professional Member   \n",
       "\n",
       "  Emails  \n",
       "0         "
      ]
     },
     "execution_count": 30,
     "metadata": {},
     "output_type": "execute_result"
    }
   ],
   "source": [
    "merged_df.head(1)"
   ]
  },
  {
   "cell_type": "code",
   "execution_count": 31,
   "id": "b1dc51ea",
   "metadata": {
    "scrolled": true
   },
   "outputs": [],
   "source": [
    "# Select only the variable 'Dues amount.'\n",
    "X = merged_df[['Dues amount']]\n",
    "\n",
    "# Normalize the 'Dues amount' column.\n",
    "scaler = StandardScaler()\n",
    "X_scaled = scaler.fit_transform(X)"
   ]
  },
  {
   "cell_type": "markdown",
   "id": "e74ff14c",
   "metadata": {},
   "source": [
    "<font size=\"4\"><b>APPLYING K-MEANS ALGORITHM: </b></font>"
   ]
  },
  {
   "cell_type": "code",
   "execution_count": 32,
   "id": "212460f6",
   "metadata": {
    "scrolled": true
   },
   "outputs": [
    {
     "data": {
      "text/html": [
       "<style>#sk-container-id-1 {color: black;}#sk-container-id-1 pre{padding: 0;}#sk-container-id-1 div.sk-toggleable {background-color: white;}#sk-container-id-1 label.sk-toggleable__label {cursor: pointer;display: block;width: 100%;margin-bottom: 0;padding: 0.3em;box-sizing: border-box;text-align: center;}#sk-container-id-1 label.sk-toggleable__label-arrow:before {content: \"▸\";float: left;margin-right: 0.25em;color: #696969;}#sk-container-id-1 label.sk-toggleable__label-arrow:hover:before {color: black;}#sk-container-id-1 div.sk-estimator:hover label.sk-toggleable__label-arrow:before {color: black;}#sk-container-id-1 div.sk-toggleable__content {max-height: 0;max-width: 0;overflow: hidden;text-align: left;background-color: #f0f8ff;}#sk-container-id-1 div.sk-toggleable__content pre {margin: 0.2em;color: black;border-radius: 0.25em;background-color: #f0f8ff;}#sk-container-id-1 input.sk-toggleable__control:checked~div.sk-toggleable__content {max-height: 200px;max-width: 100%;overflow: auto;}#sk-container-id-1 input.sk-toggleable__control:checked~label.sk-toggleable__label-arrow:before {content: \"▾\";}#sk-container-id-1 div.sk-estimator input.sk-toggleable__control:checked~label.sk-toggleable__label {background-color: #d4ebff;}#sk-container-id-1 div.sk-label input.sk-toggleable__control:checked~label.sk-toggleable__label {background-color: #d4ebff;}#sk-container-id-1 input.sk-hidden--visually {border: 0;clip: rect(1px 1px 1px 1px);clip: rect(1px, 1px, 1px, 1px);height: 1px;margin: -1px;overflow: hidden;padding: 0;position: absolute;width: 1px;}#sk-container-id-1 div.sk-estimator {font-family: monospace;background-color: #f0f8ff;border: 1px dotted black;border-radius: 0.25em;box-sizing: border-box;margin-bottom: 0.5em;}#sk-container-id-1 div.sk-estimator:hover {background-color: #d4ebff;}#sk-container-id-1 div.sk-parallel-item::after {content: \"\";width: 100%;border-bottom: 1px solid gray;flex-grow: 1;}#sk-container-id-1 div.sk-label:hover label.sk-toggleable__label {background-color: #d4ebff;}#sk-container-id-1 div.sk-serial::before {content: \"\";position: absolute;border-left: 1px solid gray;box-sizing: border-box;top: 0;bottom: 0;left: 50%;z-index: 0;}#sk-container-id-1 div.sk-serial {display: flex;flex-direction: column;align-items: center;background-color: white;padding-right: 0.2em;padding-left: 0.2em;position: relative;}#sk-container-id-1 div.sk-item {position: relative;z-index: 1;}#sk-container-id-1 div.sk-parallel {display: flex;align-items: stretch;justify-content: center;background-color: white;position: relative;}#sk-container-id-1 div.sk-item::before, #sk-container-id-1 div.sk-parallel-item::before {content: \"\";position: absolute;border-left: 1px solid gray;box-sizing: border-box;top: 0;bottom: 0;left: 50%;z-index: -1;}#sk-container-id-1 div.sk-parallel-item {display: flex;flex-direction: column;z-index: 1;position: relative;background-color: white;}#sk-container-id-1 div.sk-parallel-item:first-child::after {align-self: flex-end;width: 50%;}#sk-container-id-1 div.sk-parallel-item:last-child::after {align-self: flex-start;width: 50%;}#sk-container-id-1 div.sk-parallel-item:only-child::after {width: 0;}#sk-container-id-1 div.sk-dashed-wrapped {border: 1px dashed gray;margin: 0 0.4em 0.5em 0.4em;box-sizing: border-box;padding-bottom: 0.4em;background-color: white;}#sk-container-id-1 div.sk-label label {font-family: monospace;font-weight: bold;display: inline-block;line-height: 1.2em;}#sk-container-id-1 div.sk-label-container {text-align: center;}#sk-container-id-1 div.sk-container {/* jupyter's `normalize.less` sets `[hidden] { display: none; }` but bootstrap.min.css set `[hidden] { display: none !important; }` so we also need the `!important` here to be able to override the default hidden behavior on the sphinx rendered scikit-learn.org. See: https://github.com/scikit-learn/scikit-learn/issues/21755 */display: inline-block !important;position: relative;}#sk-container-id-1 div.sk-text-repr-fallback {display: none;}</style><div id=\"sk-container-id-1\" class=\"sk-top-container\"><div class=\"sk-text-repr-fallback\"><pre>KMeans(n_clusters=3, n_init=10, random_state=42)</pre><b>In a Jupyter environment, please rerun this cell to show the HTML representation or trust the notebook. <br />On GitHub, the HTML representation is unable to render, please try loading this page with nbviewer.org.</b></div><div class=\"sk-container\" hidden><div class=\"sk-item\"><div class=\"sk-estimator sk-toggleable\"><input class=\"sk-toggleable__control sk-hidden--visually\" id=\"sk-estimator-id-1\" type=\"checkbox\" checked><label for=\"sk-estimator-id-1\" class=\"sk-toggleable__label sk-toggleable__label-arrow\">KMeans</label><div class=\"sk-toggleable__content\"><pre>KMeans(n_clusters=3, n_init=10, random_state=42)</pre></div></div></div></div></div>"
      ],
      "text/plain": [
       "KMeans(n_clusters=3, n_init=10, random_state=42)"
      ]
     },
     "execution_count": 32,
     "metadata": {},
     "output_type": "execute_result"
    }
   ],
   "source": [
    "# Setting the desired number of clusters.\n",
    "num_clusters = 3\n",
    "\n",
    "# Execute the K-means algorithm.\n",
    "kmeans = KMeans(n_clusters=num_clusters, n_init=10, random_state=42)\n",
    "kmeans.fit(X)"
   ]
  },
  {
   "cell_type": "markdown",
   "id": "d4bdccf1",
   "metadata": {},
   "source": [
    "<font size=\"3\"><b>After fitting the model, we have the cluster labels assigned to each data instance. </b></font>\n",
    "* Add a new column 'Cluster Labels' to merged_df to see which clusters each member belongs to.\n",
    "* Accessing these labels through the .labels_ attribute of the kmeans object."
   ]
  },
  {
   "cell_type": "code",
   "execution_count": 33,
   "id": "8f45c887",
   "metadata": {},
   "outputs": [],
   "source": [
    "# Get cluster labels. - rotulos \n",
    "labels = kmeans.labels_\n",
    "\n",
    "# Add the labels to the merged_df['Cluster Labels'] new column:\n",
    "merged_df['Cluster Labels'] = labels"
   ]
  },
  {
   "cell_type": "markdown",
   "id": "1538356d",
   "metadata": {},
   "source": [
    "<font size=\"4\"><b>Visualizing the results:</b></font>\n",
    "\n",
    "* Now that we have the cluster labels assigned, we can visualize the results.\n",
    "* Let's use a scatter plot to plot the points with different colors for each cluster."
   ]
  },
  {
   "cell_type": "code",
   "execution_count": 34,
   "id": "ad47f6bc",
   "metadata": {},
   "outputs": [
    {
     "data": {
      "text/html": [
       "<div>\n",
       "<style scoped>\n",
       "    .dataframe tbody tr th:only-of-type {\n",
       "        vertical-align: middle;\n",
       "    }\n",
       "\n",
       "    .dataframe tbody tr th {\n",
       "        vertical-align: top;\n",
       "    }\n",
       "\n",
       "    .dataframe thead th {\n",
       "        text-align: right;\n",
       "    }\n",
       "</style>\n",
       "<table border=\"1\" class=\"dataframe\">\n",
       "  <thead>\n",
       "    <tr style=\"text-align: right;\">\n",
       "      <th></th>\n",
       "      <th>Member ID</th>\n",
       "      <th>Last name</th>\n",
       "      <th>First name</th>\n",
       "      <th>Address 1</th>\n",
       "      <th>Address 2</th>\n",
       "      <th>City</th>\n",
       "      <th>State</th>\n",
       "      <th>Country</th>\n",
       "      <th>Zip Code</th>\n",
       "      <th>Dues amount</th>\n",
       "      <th>Membership end date</th>\n",
       "      <th>Member type</th>\n",
       "      <th>Emails</th>\n",
       "      <th>Cluster Labels</th>\n",
       "    </tr>\n",
       "  </thead>\n",
       "  <tbody>\n",
       "    <tr>\n",
       "      <th>141</th>\n",
       "      <td>100152</td>\n",
       "      <td>Paquin</td>\n",
       "      <td>Howard</td>\n",
       "      <td>500 Palladium Dr</td>\n",
       "      <td>500 Palladium Dr</td>\n",
       "      <td>Ottawa</td>\n",
       "      <td>ON</td>\n",
       "      <td>Canada</td>\n",
       "      <td>K2V 1C2</td>\n",
       "      <td>149.0</td>\n",
       "      <td>06/12/2022</td>\n",
       "      <td>Academic Professional</td>\n",
       "      <td>paquinhoward@email.com</td>\n",
       "      <td>1</td>\n",
       "    </tr>\n",
       "  </tbody>\n",
       "</table>\n",
       "</div>"
      ],
      "text/plain": [
       "    Member ID Last name First name         Address 1         Address 2  \\\n",
       "141    100152    Paquin     Howard  500 Palladium Dr  500 Palladium Dr   \n",
       "\n",
       "       City State Country Zip Code  Dues amount Membership end date  \\\n",
       "141  Ottawa    ON  Canada  K2V 1C2        149.0          06/12/2022   \n",
       "\n",
       "               Member type                  Emails  Cluster Labels  \n",
       "141  Academic Professional  paquinhoward@email.com               1  "
      ]
     },
     "execution_count": 34,
     "metadata": {},
     "output_type": "execute_result"
    }
   ],
   "source": [
    "merged_df.sample()"
   ]
  },
  {
   "cell_type": "code",
   "execution_count": 35,
   "id": "86e80c19",
   "metadata": {
    "scrolled": false
   },
   "outputs": [
    {
     "name": "stdout",
     "output_type": "stream",
     "text": [
      "Label 2: 139 Observations\n",
      "Label 1: 8 Observations\n",
      "Label 0: 4 Observations\n",
      "Total Number of plotted observations: 151\n"
     ]
    },
    {
     "data": {
      "image/png": "[encoded data removed]",
      "text/plain": [
       "<Figure size 640x480 with 1 Axes>"
      ]
     },
     "metadata": {},
     "output_type": "display_data"
    }
   ],
   "source": [
    "# Changing the values of the labels for a better understanding of the results.\n",
    "merged_df['Cluster Labels'] = merged_df['Cluster Labels'].map({0: 1, 1: 2, 2: 0})\n",
    "\n",
    "# Plot the points with different colors for each cluster using Seaborn.\n",
    "scatter = sns.scatterplot(data=merged_df, x=range(len(X)), y='Dues amount', hue='Cluster Labels', palette='bright')\n",
    "plt.xlabel('Observation')\n",
    "plt.ylabel('Dues amount')\n",
    "plt.title('K-means Clustering of Dues Amount')\n",
    "\n",
    "# Get the count of observations for each label/color\n",
    "label_counts = merged_df['Cluster Labels'].value_counts()\n",
    "\n",
    "# Print the count of observations for each label/color\n",
    "for label, count in label_counts.items():\n",
    "    print(f\"Label {label}: {count} Observations\")\n",
    "    \n",
    "# Obtain the total number of plotted observations.\n",
    "num_points = len(scatter.collections[0].get_offsets())\n",
    "print(\"Total Number of plotted observations:\", num_points)\n",
    "\n",
    "plt.show()"
   ]
  },
  {
   "cell_type": "markdown",
   "id": "790b2bfe",
   "metadata": {},
   "source": [
    "<font size=\"4\"><b>K-means algorithm conclusions:</b></font>\n",
    "\n",
    "* The K-means unsupervisioned clustering algorithm was applied to a dataset of 151 observations and segmented the users into three distinct clusters based on their dues amounts. For each cluster it is possible to develop targeted marketing strategies tailored to the specific needs and preferences of each user segment.\n",
    "\n",
    "* Label 0 (green): Represents the segment with lower spending patterns compared to the other clusters but where the majority of the users are. Strategies that effectively reach a large audience can be employed in this segment.\n",
    "* Label 1 (orange): Represents the median users, who spend more than the majority but less than the most valuable segment. There is not a considerable amount of users here and the amount is twice of the usually paid by the majority.\n",
    "* Label 2 (blue): Comprises the most valuable users, characterized by higher spending patterns and the potential for generating significant returns in targeted marketing campaigns."
   ]
  },
  {
   "cell_type": "code",
   "execution_count": null,
   "id": "b30378e6",
   "metadata": {},
   "outputs": [],
   "source": []
  }
 ],
 "metadata": {
  "kernelspec": {
   "display_name": "Python 3 (ipykernel)",
   "language": "python",
   "name": "python3"
  },
  "language_info": {
   "codemirror_mode": {
    "name": "ipython",
    "version": 3
   },
   "file_extension": ".py",
   "mimetype": "text/x-python",
   "name": "python",
   "nbconvert_exporter": "python",
   "pygments_lexer": "ipython3",
   "version": "3.11.4"
  }
 },
 "nbformat": 4,
 "nbformat_minor": 5
}
