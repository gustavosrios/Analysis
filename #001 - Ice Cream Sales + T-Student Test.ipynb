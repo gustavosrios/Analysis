{
 "cells": [
  {
   "cell_type": "markdown",
   "id": "813b9af6",
   "metadata": {},
   "source": [
    "# Imports for data manipulation and visualization"
   ]
  },
  {
   "cell_type": "code",
   "execution_count": 1,
   "id": "338e5b6b",
   "metadata": {},
   "outputs": [],
   "source": [
    "import sqlite3 as s3\n",
    "import pandas as pd\n",
    "import seaborn as sns\n",
    "import matplotlib.pyplot as plt\n",
    "pd.set_option('display.max_columns', None) \n",
    "pd.set_option('display.max_rows', None)\n",
    "\n",
    "# Create the DataFrames with the .xlsx files\n",
    "df_day = pd.read_excel('iceSalesByDay.xlsx')\n",
    "df_flavor = pd.read_excel('iceSalesByFlavor.xlsx')\n",
    "df_temp = pd.read_excel('iceSalesByTemp.xlsx')"
   ]
  },
  {
   "cell_type": "code",
   "execution_count": 2,
   "id": "91670651",
   "metadata": {},
   "outputs": [
    {
     "name": "stdout",
     "output_type": "stream",
     "text": [
      "<class 'pandas.core.frame.DataFrame'>\n",
      "RangeIndex: 365 entries, 0 to 364\n",
      "Data columns (total 2 columns):\n",
      " #   Column  Non-Null Count  Dtype         \n",
      "---  ------  --------------  -----         \n",
      " 0   date    365 non-null    datetime64[ns]\n",
      " 1   sales   365 non-null    float64       \n",
      "dtypes: datetime64[ns](1), float64(1)\n",
      "memory usage: 5.8 KB\n",
      "None\n",
      "<class 'pandas.core.frame.DataFrame'>\n",
      "RangeIndex: 208 entries, 0 to 207\n",
      "Data columns (total 3 columns):\n",
      " #   Column      Non-Null Count  Dtype \n",
      "---  ------      --------------  ----- \n",
      " 0   week        208 non-null    int64 \n",
      " 1   units sold  208 non-null    int64 \n",
      " 2   flavor      208 non-null    object\n",
      "dtypes: int64(2), object(1)\n",
      "memory usage: 5.0+ KB\n",
      "None\n",
      "<class 'pandas.core.frame.DataFrame'>\n",
      "RangeIndex: 365 entries, 0 to 364\n",
      "Data columns (total 2 columns):\n",
      " #   Column       Non-Null Count  Dtype  \n",
      "---  ------       --------------  -----  \n",
      " 0   temperature  365 non-null    float64\n",
      " 1   sales        365 non-null    float64\n",
      "dtypes: float64(2)\n",
      "memory usage: 5.8 KB\n",
      "None\n"
     ]
    }
   ],
   "source": [
    "# Quick overview of the datasets to check for inconsistencies\n",
    "print(df_day.info())\n",
    "print(df_flavor.info())\n",
    "print(df_temp.info())"
   ]
  },
  {
   "cell_type": "markdown",
   "id": "5cacfad4",
   "metadata": {},
   "source": [
    "\n",
    "# Question 1: What is the most popular flavor of ice cream?"
   ]
  },
  {
   "cell_type": "code",
   "execution_count": 3,
   "id": "00395698",
   "metadata": {},
   "outputs": [
    {
     "data": {
      "text/html": [
       "<div>\n",
       "<style scoped>\n",
       "    .dataframe tbody tr th:only-of-type {\n",
       "        vertical-align: middle;\n",
       "    }\n",
       "\n",
       "    .dataframe tbody tr th {\n",
       "        vertical-align: top;\n",
       "    }\n",
       "\n",
       "    .dataframe thead th {\n",
       "        text-align: right;\n",
       "    }\n",
       "</style>\n",
       "<table border=\"1\" class=\"dataframe\">\n",
       "  <thead>\n",
       "    <tr style=\"text-align: right;\">\n",
       "      <th></th>\n",
       "      <th>week</th>\n",
       "      <th>units sold</th>\n",
       "      <th>flavor</th>\n",
       "    </tr>\n",
       "  </thead>\n",
       "  <tbody>\n",
       "    <tr>\n",
       "      <th>0</th>\n",
       "      <td>1</td>\n",
       "      <td>6</td>\n",
       "      <td>chocolate</td>\n",
       "    </tr>\n",
       "  </tbody>\n",
       "</table>\n",
       "</div>"
      ],
      "text/plain": [
       "   week  units sold     flavor\n",
       "0     1           6  chocolate"
      ]
     },
     "execution_count": 3,
     "metadata": {},
     "output_type": "execute_result"
    }
   ],
   "source": [
    "df_flavor.head(1)"
   ]
  },
  {
   "cell_type": "code",
   "execution_count": 4,
   "id": "48d09609",
   "metadata": {},
   "outputs": [
    {
     "name": "stdout",
     "output_type": "stream",
     "text": [
      "Value Counts For:\n",
      "flavor\n",
      "chocolate     52\n",
      "lemon         52\n",
      "strawberry    52\n",
      "vanilla       52\n",
      "Name: count, dtype: int64\n",
      "\n"
     ]
    },
    {
     "data": {
      "image/png": "[encoded data removed]",
      "text/plain": [
       "<Figure size 640x480 with 1 Axes>"
      ]
     },
     "metadata": {},
     "output_type": "display_data"
    }
   ],
   "source": [
    "print(f\"Value Counts For:\\n{df_flavor['flavor'].value_counts()}\\n\")\n",
    "\n",
    "# Barchart to visualize the count of each flavor\n",
    "df_flavor['flavor'].value_counts().plot(kind='bar')\n",
    "plt.xlabel('Flavors')\n",
    "plt.ylabel('Count')\n",
    "plt.title('Sell Counts for each flavour')\n",
    "plt.show()"
   ]
  },
  {
   "cell_type": "markdown",
   "id": "49cbbce9",
   "metadata": {},
   "source": [
    "The .value_counts() function provides the frequency count of each unique value in a dataset. In this particular dataset provided by an exercise from the Google Data Analytics course, each flavor appears 52 times, indicating that it was sold 52 times for each flavor. However, it raises concerns about the quality and reliability of this dataset.\n",
    "\n",
    "Based on the available data, it is not possible to determine the impact of different flavors on sales since there is no variation in the number of sales for each flavor. Therefore, we cannot draw conclusions or make inferences about the influence of flavors on sales with this dataset alone."
   ]
  },
  {
   "cell_type": "markdown",
   "id": "de22ad46",
   "metadata": {},
   "source": [
    "# Question 2: How does temperature affect sales?"
   ]
  },
  {
   "cell_type": "code",
   "execution_count": 5,
   "id": "bdfdbfd2",
   "metadata": {},
   "outputs": [
    {
     "data": {
      "text/html": [
       "<div>\n",
       "<style scoped>\n",
       "    .dataframe tbody tr th:only-of-type {\n",
       "        vertical-align: middle;\n",
       "    }\n",
       "\n",
       "    .dataframe tbody tr th {\n",
       "        vertical-align: top;\n",
       "    }\n",
       "\n",
       "    .dataframe thead th {\n",
       "        text-align: right;\n",
       "    }\n",
       "</style>\n",
       "<table border=\"1\" class=\"dataframe\">\n",
       "  <thead>\n",
       "    <tr style=\"text-align: right;\">\n",
       "      <th></th>\n",
       "      <th>temperature</th>\n",
       "      <th>sales</th>\n",
       "    </tr>\n",
       "  </thead>\n",
       "  <tbody>\n",
       "    <tr>\n",
       "      <th>0</th>\n",
       "      <td>60.217676</td>\n",
       "      <td>39.693565</td>\n",
       "    </tr>\n",
       "    <tr>\n",
       "      <th>1</th>\n",
       "      <td>80.372455</td>\n",
       "      <td>61.592665</td>\n",
       "    </tr>\n",
       "    <tr>\n",
       "      <th>2</th>\n",
       "      <td>57.674373</td>\n",
       "      <td>33.443372</td>\n",
       "    </tr>\n",
       "    <tr>\n",
       "      <th>3</th>\n",
       "      <td>95.800183</td>\n",
       "      <td>80.020249</td>\n",
       "    </tr>\n",
       "    <tr>\n",
       "      <th>4</th>\n",
       "      <td>95.170632</td>\n",
       "      <td>80.754129</td>\n",
       "    </tr>\n",
       "  </tbody>\n",
       "</table>\n",
       "</div>"
      ],
      "text/plain": [
       "   temperature      sales\n",
       "0    60.217676  39.693565\n",
       "1    80.372455  61.592665\n",
       "2    57.674373  33.443372\n",
       "3    95.800183  80.020249\n",
       "4    95.170632  80.754129"
      ]
     },
     "execution_count": 5,
     "metadata": {},
     "output_type": "execute_result"
    }
   ],
   "source": [
    "df_temp.head()"
   ]
  },
  {
   "cell_type": "code",
   "execution_count": 6,
   "id": "587d4aa5",
   "metadata": {},
   "outputs": [
    {
     "data": {
      "image/png": "[encoded data removed]",
      "text/plain": [
       "<Figure size 640x480 with 1 Axes>"
      ]
     },
     "metadata": {},
     "output_type": "display_data"
    },
    {
     "data": {
      "image/png": "[encoded data removed]",
      "text/plain": [
       "<Figure size 640x480 with 2 Axes>"
      ]
     },
     "metadata": {},
     "output_type": "display_data"
    },
    {
     "name": "stdout",
     "output_type": "stream",
     "text": [
      "Correlation: 0.9884567529337922\n"
     ]
    }
   ],
   "source": [
    "# Create a Scatterplot to check for correlations between two variables\n",
    "plt.scatter(df_temp['temperature'], df_temp['sales'])\n",
    "plt.xlabel('Temperature')\n",
    "plt.ylabel('Sales')\n",
    "plt.title('Relationship between Temperature and Sales')\n",
    "plt.show()\n",
    "\n",
    "# Create a correlation matrix\n",
    "correlation_matrix = df_temp.corr()\n",
    "\n",
    "# Create a heatmap with the correlation matrix\n",
    "sns.heatmap(correlation_matrix, annot=True, cmap='coolwarm')\n",
    "plt.title('Correlation Heatmap')\n",
    "plt.show()\n",
    "\n",
    "# Calculate the correlation between temperature and sales\n",
    "correlation = df_temp['temperature'].corr(df_temp['sales'])\n",
    "print(f\"Correlation: {correlation}\")"
   ]
  },
  {
   "cell_type": "markdown",
   "id": "997e56f1",
   "metadata": {},
   "source": [
    "Based on the provided code and the output correlation value of 0.988, we can conclude that there is a very strong positive correlation between temperature and sales.\n",
    "\n",
    "A correlation value of 0.988 indicates a close to perfect positive linear relationship between these two variables. This means that as the temperature increases, the sales also tend to increase consistently. Conversely, as the temperature decreases, the sales tend to decrease as well.\n",
    "\n",
    "This strong positive correlation suggests that temperature has a significant impact on sales. It implies that temperature can be a crucial factor in predicting and influencing consumer behavior and purchasing patterns. Businesses can leverage this information to make informed decisions and develop effective strategies, such as adjusting marketing campaigns or stocking inventory based on temperature forecasts.\n",
    "\n",
    "However, it's important to note that correlation does not imply causation. While temperature and sales are highly correlated, there may be other underlying factors or variables that contribute to the observed relationship. Further analysis and consideration of other variables are necessary to establish a causal relationship."
   ]
  },
  {
   "cell_type": "markdown",
   "id": "3ed8da94",
   "metadata": {},
   "source": [
    "# Question 3: How do weekends and holidays affect sales?"
   ]
  },
  {
   "cell_type": "code",
   "execution_count": 7,
   "id": "bb161b77",
   "metadata": {},
   "outputs": [
    {
     "data": {
      "text/html": [
       "<div>\n",
       "<style scoped>\n",
       "    .dataframe tbody tr th:only-of-type {\n",
       "        vertical-align: middle;\n",
       "    }\n",
       "\n",
       "    .dataframe tbody tr th {\n",
       "        vertical-align: top;\n",
       "    }\n",
       "\n",
       "    .dataframe thead th {\n",
       "        text-align: right;\n",
       "    }\n",
       "</style>\n",
       "<table border=\"1\" class=\"dataframe\">\n",
       "  <thead>\n",
       "    <tr style=\"text-align: right;\">\n",
       "      <th></th>\n",
       "      <th>date</th>\n",
       "      <th>sales</th>\n",
       "    </tr>\n",
       "  </thead>\n",
       "  <tbody>\n",
       "    <tr>\n",
       "      <th>0</th>\n",
       "      <td>2019-01-01</td>\n",
       "      <td>59.9622</td>\n",
       "    </tr>\n",
       "    <tr>\n",
       "      <th>1</th>\n",
       "      <td>2019-01-02</td>\n",
       "      <td>67.0605</td>\n",
       "    </tr>\n",
       "    <tr>\n",
       "      <th>2</th>\n",
       "      <td>2019-01-03</td>\n",
       "      <td>74.2350</td>\n",
       "    </tr>\n",
       "    <tr>\n",
       "      <th>3</th>\n",
       "      <td>2019-01-04</td>\n",
       "      <td>78.1120</td>\n",
       "    </tr>\n",
       "    <tr>\n",
       "      <th>4</th>\n",
       "      <td>2019-01-05</td>\n",
       "      <td>84.7636</td>\n",
       "    </tr>\n",
       "  </tbody>\n",
       "</table>\n",
       "</div>"
      ],
      "text/plain": [
       "        date    sales\n",
       "0 2019-01-01  59.9622\n",
       "1 2019-01-02  67.0605\n",
       "2 2019-01-03  74.2350\n",
       "3 2019-01-04  78.1120\n",
       "4 2019-01-05  84.7636"
      ]
     },
     "execution_count": 7,
     "metadata": {},
     "output_type": "execute_result"
    }
   ],
   "source": [
    "df_day.head()"
   ]
  },
  {
   "cell_type": "code",
   "execution_count": 8,
   "id": "3b927285",
   "metadata": {},
   "outputs": [
    {
     "name": "stdout",
     "output_type": "stream",
     "text": [
      "2.2.2\n"
     ]
    }
   ],
   "source": [
    "print(pd.__version__)"
   ]
  },
  {
   "cell_type": "code",
   "execution_count": 9,
   "id": "a2fb4538",
   "metadata": {},
   "outputs": [
    {
     "data": {
      "text/html": [
       "<div>\n",
       "<style scoped>\n",
       "    .dataframe tbody tr th:only-of-type {\n",
       "        vertical-align: middle;\n",
       "    }\n",
       "\n",
       "    .dataframe tbody tr th {\n",
       "        vertical-align: top;\n",
       "    }\n",
       "\n",
       "    .dataframe thead th {\n",
       "        text-align: right;\n",
       "    }\n",
       "</style>\n",
       "<table border=\"1\" class=\"dataframe\">\n",
       "  <thead>\n",
       "    <tr style=\"text-align: right;\">\n",
       "      <th></th>\n",
       "      <th>date</th>\n",
       "      <th>sales</th>\n",
       "      <th>weekday</th>\n",
       "    </tr>\n",
       "  </thead>\n",
       "  <tbody>\n",
       "    <tr>\n",
       "      <th>0</th>\n",
       "      <td>2019-01-01</td>\n",
       "      <td>59.9622</td>\n",
       "      <td>Tuesday</td>\n",
       "    </tr>\n",
       "    <tr>\n",
       "      <th>1</th>\n",
       "      <td>2019-01-02</td>\n",
       "      <td>67.0605</td>\n",
       "      <td>Wednesday</td>\n",
       "    </tr>\n",
       "    <tr>\n",
       "      <th>2</th>\n",
       "      <td>2019-01-03</td>\n",
       "      <td>74.2350</td>\n",
       "      <td>Thursday</td>\n",
       "    </tr>\n",
       "    <tr>\n",
       "      <th>3</th>\n",
       "      <td>2019-01-04</td>\n",
       "      <td>78.1120</td>\n",
       "      <td>Friday</td>\n",
       "    </tr>\n",
       "    <tr>\n",
       "      <th>4</th>\n",
       "      <td>2019-01-05</td>\n",
       "      <td>84.7636</td>\n",
       "      <td>Saturday</td>\n",
       "    </tr>\n",
       "  </tbody>\n",
       "</table>\n",
       "</div>"
      ],
      "text/plain": [
       "        date    sales    weekday\n",
       "0 2019-01-01  59.9622    Tuesday\n",
       "1 2019-01-02  67.0605  Wednesday\n",
       "2 2019-01-03  74.2350   Thursday\n",
       "3 2019-01-04  78.1120     Friday\n",
       "4 2019-01-05  84.7636   Saturday"
      ]
     },
     "execution_count": 9,
     "metadata": {},
     "output_type": "execute_result"
    }
   ],
   "source": [
    "df_day['date'] = pd.to_datetime(df_day['date'])\n",
    "df_day['weekday'] = df_day['date'].dt.day_name()\n",
    "df_day.head()"
   ]
  },
  {
   "cell_type": "code",
   "execution_count": 10,
   "id": "ea3c1e62",
   "metadata": {},
   "outputs": [
    {
     "name": "stdout",
     "output_type": "stream",
     "text": [
      "Average sales on weekends: 104.96095288461538\n",
      "Average sales on weekdays: 104.315669348659\n"
     ]
    }
   ],
   "source": [
    "mean_sales_weekend = df_day[df_day['weekday'].isin(['Saturday', 'Sunday'])]['sales'].mean()\n",
    "mean_sales_weekday = df_day[df_day['weekday'].isin(['Monday', 'Tuesday', 'Wednesday', 'Thursday', 'Friday'])]['sales'].mean()\n",
    "print(f'Average sales on weekends: {mean_sales_weekend}')\n",
    "print(f'Average sales on weekdays: {mean_sales_weekday}')"
   ]
  },
  {
   "cell_type": "markdown",
   "id": "ced25474",
   "metadata": {},
   "source": [
    "Based on the provided data, we can conclude that the average sales on weekends are practically the same as the average sales on weekdays. The difference between the two averages is minimal, with the average weekend sales being slightly higher by only 0.65 units compared to the average weekday sales.\n",
    "\n",
    "This raises more concearns about the quality of this data, all medians are pratically the same indicating some possible errors with this data, maybe when it was collected or processed.\n",
    "\n",
    "This finding suggests that there is no significant difference in sales performance between weekdays and weekends. It indicates a stability in customer preferences and buying behaviors throughout the week.\n",
    "\n",
    "It is important to consider that even a small difference can have practical implications, such as the need to adjust the sales team or plan specific promotional strategies for certain days. However, based on the current data, it is not possible to identify any distinct sales patterns between weekdays and weekends.\n",
    "\n",
    "It is recommended to continue monitoring sales over time and conduct additional analyses to check for seasonal variations, long-term trends, or other influences that may differently impact sales on weekdays and weekends."
   ]
  },
  {
   "cell_type": "code",
   "execution_count": 11,
   "id": "5814eb23",
   "metadata": {},
   "outputs": [
    {
     "data": {
      "image/png": "[encoded data removed]",
      "text/plain": [
       "<Figure size 300x400 with 1 Axes>"
      ]
     },
     "metadata": {},
     "output_type": "display_data"
    }
   ],
   "source": [
    "mean_sales = [mean_sales_weekend, mean_sales_weekday]\n",
    "labels = ['Weekends', 'Weekdays']\n",
    "plt.figure(figsize=(3, 4))\n",
    "sns.barplot(x=labels, y=mean_sales)\n",
    "plt.xlabel('Period')\n",
    "plt.ylabel('Average Sales')\n",
    "plt.title('Comparison of Sales between Weekends and Weekdays')\n",
    "plt.show()"
   ]
  },
  {
   "cell_type": "markdown",
   "id": "02831765",
   "metadata": {},
   "source": [
    "# T-Student Statistical Test\n",
    "The t-test is used to compare the means of two independent samples and determine if there is a significant difference between them. In this case, it's possible to compare <font size=\"3\"><b>sales on weekends and weekdays.</b></font> "
   ]
  },
  {
   "cell_type": "code",
   "execution_count": 12,
   "id": "158d0f98",
   "metadata": {},
   "outputs": [
    {
     "name": "stdout",
     "output_type": "stream",
     "text": [
      "T-Statistic: 0.20626817032385691\n",
      "P-Value: 0.8366970801484442\n"
     ]
    }
   ],
   "source": [
    "from scipy.stats import ttest_ind\n",
    "\n",
    "weekend_sales = df_day[df_day['weekday'].isin(['Saturday', 'Sunday'])]['sales']\n",
    "weekday_sales = df_day[df_day['weekday'].isin(['Monday', 'Tuesday', 'Wednesday', 'Thursday', 'Friday'])]['sales']\n",
    "\n",
    "t_statistic, p_value = ttest_ind(weekend_sales, weekday_sales)\n",
    "print(f\"T-Statistic: {t_statistic}\")\n",
    "print(f\"P-Value: {p_value}\")"
   ]
  },
  {
   "cell_type": "markdown",
   "id": "ea0424fb",
   "metadata": {},
   "source": [
    "The t-statistic is a measure of the relative difference between the means of the two samples. The higher the absolute value of the t-statistic, the greater the difference between the sample means.\n",
    "\n",
    "In this case, the t-statistic is 0.20626817032385691. This value indicates that the difference between the means of sales on weekends and weekdays is relatively small.\n",
    "\n",
    "The p-value is the probability of observing a difference as large or larger between the sample means, assuming that the population means are equal. A p-value smaller than a pre-defined significance level (such as 0.05) indicates that there is statistical evidence to reject the null hypothesis that the population means are equal.\n",
    "\n",
    "In this case, the p-value is 0.8366970801484442. This means that, assuming the population means are equal, the probability of observing a difference as large or larger between sales on weekends and weekdays is approximately 83.7%. This p-value is greater than the commonly adopted significance level of 0.05, indicating that there is no statistical evidence to suggest that sales are significantly different between weekends and weekdays.\n",
    "\n",
    "Based on the results of the t-student statistical test, there is <font size=\"3\"><b>no statistical evidence</b></font> to support a significant difference in sales between weekends and weekdays. However, it is important to note that these results are specific to the dataset you have. If you have a larger dataset or wish to generalize the results to the population at large, more comprehensive analyses may be required."
   ]
  },
  {
   "cell_type": "code",
   "execution_count": null,
   "id": "4ae7b8d7",
   "metadata": {},
   "outputs": [],
   "source": []
  }
 ],
 "metadata": {
  "kernelspec": {
   "display_name": "Python 3 (ipykernel)",
   "language": "python",
   "name": "python3"
  },
  "language_info": {
   "codemirror_mode": {
    "name": "ipython",
    "version": 3
   },
   "file_extension": ".py",
   "mimetype": "text/x-python",
   "name": "python",
   "nbconvert_exporter": "python",
   "pygments_lexer": "ipython3",
   "version": "3.12.3"
  }
 },
 "nbformat": 4,
 "nbformat_minor": 5
}
